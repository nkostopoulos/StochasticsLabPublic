{
  "nbformat": 4,
  "nbformat_minor": 0,
  "metadata": {
    "colab": {
      "provenance": []
    },
    "kernelspec": {
      "name": "python3",
      "display_name": "Python 3"
    }
  },
  "cells": [
    {
      "cell_type": "markdown",
      "metadata": {
        "id": "Nn4LlotO0M7n"
      },
      "source": [
        "<b><h1>Bellman-Ford</h1></b>\n",
        "<p align=\"justify\">Δίνεται το παρακάτω σχήμα</p>\n",
        "<img src=\"https://raw.githubusercontent.com/nkostopoulos/StochasticsLabPublic/master/lab7/bellman-topology.png\"></img>"
      ]
    },
    {
      "cell_type": "markdown",
      "metadata": {
        "id": "3RKpzNxE1NeN"
      },
      "source": [
        "<b><h3>Ερωτήσεις</h3></b>\n",
        "<ul>\n",
        "<li>Να περιγράψετε, συνοπτικά, τη λειτουργία του αλγορίθμου <i>Bellman-Ford</i>.</li>\n",
        "<li>Να εφαρμόσετε τον αλγόριθμο <i>Bellman-Ford</i> στο γράφο του παραπάνω σχήματος για τις ακμές που συμβολίζονται με μαύρο χρώμα και συνεχή γραμμή. Ως πηγή του αλγορίθμου να θεωρήσετε το <b>AS #2</b>. Ποιο είναι το συνολικό κόστος της διαδρομής από το <b>AS #2</b> στο <b>AS #11</b>; Ποιο είναι το μονοπάτι του δέντρου <i>Bellman-Ford</i> από το <b>AS #2</b> στο <b>AS #11</b>;</li>\n",
        "<li>Το <b>AS #2</b> εξετάζει την προσθήκη μιας ζεύξης είτε με το <b>AS #4</b> ή με το <b>AS #1</b>. Οι ζεύξεις αυτές φαίνονται στον παραπάνω γράφο με μαύρες διακεκομμένες γραμμές. Γιατί πιστεύετε ότι χρειάζεται το <b>AS #2</b> την επιπλέον αυτή ζεύξη; Ποια από τις παραπάνω ζεύξεις θα πρέπει να προτιμήσει το <b>AS #2</b> για να είναι μικρότερο το κόστος της διαδρομής από το <b>AS #2</b> μέχρι το <b>AS #11;</b></li>\n",
        "<li>Προσθέστε την κατάλληλη ζεύξη, όπως την προσδιορίσατε στο προηγούμενο ερώτημα. Έστω ότι η ζεύξη <b>AS #2</b> – <b>AS #3</b> παθαίνει μια βλάβη. Ποιο είναι, τώρα, το κόστος της διαδρομής από το <b>AS #2</b> μέχρι το <b>AS #11</b>; Πόσο επιβαρύνθηκε σε σχέση με το δεύτερο ερώτημα;</li>\n",
        "<li>Έστω ότι αποκαθίσταται η βλάβη. Το <b>AS #12</b> προσφέρεται να ενώσει τα <b>AS #10</b> και <b>AS #11</b> απ’ ευθείας στο <b>AS #3</b>. Το <b>AS #12</b> μαζί με τις νέες ακμές που θα προστεθούν φαίνονται με κόκκινο χρώμα στον παραπάνω γράφο. Πόσο θα βελτιωθεί το συνολικό κόστος <b>AS #2</b> – <b>AS #11</b>; Το συγκεκριμένο ερώτημα προσπαθεί να προσομοιώσει τη λειτουργία του GR-IX. Τι είναι το GR-IX (<a href=\"https://gr-ix.gr\">site</a>) και ποιος είναι ο ρόλος του για το ελληνικό Internet;</li>\n",
        "</ul>\n",
        "<br>"
      ]
    },
    {
      "cell_type": "markdown",
      "source": [
        "Για την επίλυση της άσκησης θα χρησιμοποιήσετε την παρακάτω υλοποίηση του αλγορίθμου *Bellman Ford*:"
      ],
      "metadata": {
        "id": "jk1DW2XW6Fjh"
      }
    },
    {
      "cell_type": "code",
      "source": [
        "# Python3 program for Bellman-Ford's single source\n",
        "# shortest path algorithm.\n",
        "# From: https://github.com/arnab132/Bellman-Ford-Algorithm-Python/blob/main/bellman_ford.py\n",
        "\n",
        "# Class to represent a graph\n",
        "class Graph:\n",
        "\n",
        "\tdef __init__(self, vertices):\n",
        "\t\tself.V = vertices # No. of vertices\n",
        "\t\tself.graph = []\n",
        "\n",
        "\t# function to add an edge to graph\n",
        "\tdef addEdge(self, u, v, w):\n",
        "\t\tself.graph.append([u, v, w])\n",
        "\t\tself.graph.append([v, u, w])\n",
        "\n",
        "\t# utility function used to print the solution\n",
        "\tdef printArr(self, dist):\n",
        "\t\tprint(\"Vertex Distance from Source\")\n",
        "\t\tfor i in range(self.V):\n",
        "\t\t\tprint(\"{0}\\t\\t{1}\".format(i, dist[i]))\n",
        "\n",
        "\t# The main function that finds shortest distances from src to\n",
        "\t# all other vertices using Bellman-Ford algorithm. The function\n",
        "\t# also detects negative weight cycle\n",
        "\tdef BellmanFord(self, src):\n",
        "\n",
        "\t\t# Step 1: Initialize distances from src to all other vertices\n",
        "\t\t# as INFINITE\n",
        "\t\tdist = [float(\"Inf\")] * self.V\n",
        "\t\tdist[src] = 0\n",
        "\n",
        "\n",
        "\t\t# Step 2: Relax all edges |V| - 1 times. A simple shortest\n",
        "\t\t# path from src to any other vertex can have at-most |V| - 1\n",
        "\t\t# edges\n",
        "\t\tfor _ in range(self.V - 1):\n",
        "\t\t\t# Update dist value and parent index of the adjacent vertices of\n",
        "\t\t\t# the picked vertex. Consider only those vertices which are still in\n",
        "\t\t\t# queue\n",
        "\t\t\tfor u, v, w in self.graph:\n",
        "\t\t\t\tif dist[u] != float(\"Inf\") and dist[u] + w < dist[v]:\n",
        "\t\t\t\t\t\tdist[v] = dist[u] + w\n",
        "\n",
        "\t\t# Step 3: check for negative-weight cycles. The above step\n",
        "\t\t# guarantees shortest distances if graph doesn't contain\n",
        "\t\t# negative weight cycle. If we get a shorter path, then there\n",
        "\t\t# is a cycle.\n",
        "\n",
        "\t\tfor u, v, w in self.graph:\n",
        "\t\t\t\tif dist[u] != float(\"Inf\") and dist[u] + w < dist[v]:\n",
        "\t\t\t\t\t\tprint(\"Graph contains negative weight cycle\")\n",
        "\t\t\t\t\t\treturn\n",
        "\n",
        "\t\t# print all distance\n",
        "\t\tself.printArr(dist)"
      ],
      "metadata": {
        "id": "dDKLT5fp6Ldo"
      },
      "execution_count": 1,
      "outputs": []
    },
    {
      "cell_type": "markdown",
      "source": [
        "Ένα παράδειγμα ορισμού γράφου για να ξεκινήσετε είναι το παρακάτω (προσοχή στην αρίθμηση των κόμβων):"
      ],
      "metadata": {
        "id": "vh4OFr_S6hzj"
      }
    },
    {
      "cell_type": "code",
      "source": [
        "# Example: 6‐node undirected graph with positive weights\n",
        "g = Graph(6) # number of nodes (Must include node 0)\n",
        "g.addEdge(0, 1, 7)\n",
        "g.addEdge(0, 2, 9)\n",
        "g.addEdge(0, 5, 14)\n",
        "g.addEdge(1, 2, 10)\n",
        "g.addEdge(1, 3, 15)\n",
        "g.addEdge(2, 3, 11)\n",
        "g.addEdge(2, 5, 2)\n",
        "g.addEdge(3, 4, 6)\n",
        "g.addEdge(4, 5, 9)\n",
        "\n",
        "# Compute shortest paths from node 0\n",
        "g.BellmanFord(0)\n"
      ],
      "metadata": {
        "id": "B9cGi9Uh6opn"
      },
      "execution_count": null,
      "outputs": []
    },
    {
      "cell_type": "markdown",
      "source": [
        "Υπόδειξη: Εάν θέλετε να διατηρήσετε την αρίθμηση των κόμβων όπως είναι στο σχήμα μπορείτε να προσθέσετε έναν κόμβο (κόμβος 0), ο οποίος θα απέχει από τον κόμβο 1 μηδενική απόσταση."
      ],
      "metadata": {
        "id": "jP5CvepO8K4w"
      }
    }
  ]
}