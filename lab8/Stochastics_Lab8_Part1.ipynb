{
  "nbformat": 4,
  "nbformat_minor": 0,
  "metadata": {
    "colab": {
      "name": "Stochastics_Lab8_RBF.ipynb",
      "provenance": [],
      "collapsed_sections": []
    },
    "kernelspec": {
      "name": "python3",
      "display_name": "Python 3"
    },
    "language_info": {
      "name": "python"
    }
  },
  "cells": [
    {
      "cell_type": "markdown",
      "source": [
        "# Radial Basis Function\n",
        "\n",
        "Σκοπός της παρούσας άσκησης είναι η πρόβλεψη ως προς το αν ένας/μία πελάτης/ισσα μίας τράπεζας θα κάνει τη χρήση της προθεσμιακής κατάθεσης ή όχι. Αυτή η πρόβλεψη θα εξαχθεί με βάση συγκεκριμένα δημογραφικά χαρακτηριστικά του/της\n",
        "όπως η ηλικία, η εργασία, η εκπαίδευση, η οικογενειακή κατάσταση κ.λπ.\n",
        "Για να το επιτύχουμε αυτό θα κάνουμε χρήση μίας εφαρμογής βασισμένη σε RBF. Στο κρυφό επίπεδο των νευρώνων υπολογίζονται τα κέντρα των clusters με τη χρήση του αλγορίθμου k-means.\n",
        "\n",
        "\n",
        " "
      ],
      "metadata": {
        "id": "60LtVqhSDSVs"
      }
    },
    {
      "cell_type": "markdown",
      "source": [
        "**Βήμα 1ο**: Αρχικά φορτώνουμε τις απαράιτητες βιβλιοθήκες"
      ],
      "metadata": {
        "id": "VZo7LLMnFRhe"
      }
    },
    {
      "cell_type": "code",
      "execution_count": 1,
      "metadata": {
        "id": "qty0hUG3xn16"
      },
      "outputs": [],
      "source": [
        "import pandas as pd\n",
        "import numpy as np\n",
        "from sklearn.preprocessing import LabelEncoder\n",
        "from sklearn.model_selection import train_test_split\n",
        "from sklearn.preprocessing import StandardScaler\n",
        "from sklearn.cluster import KMeans\n",
        "import math\n",
        "from sklearn.metrics import accuracy_score"
      ]
    },
    {
      "cell_type": "markdown",
      "source": [
        "**Βήμα 2ο**: διάβαζουμε το αρχείο bank-full.csv και απομονώνουμε τις στήλες με τα χαρακτηριστικά που θα χρησιμοποιήσουμε (εργασία, αν έχει δανειακές υποχρεώσεις κλπ). Το αρχείο είναι διαθέσιμο [εδώ](https://raw.githubusercontent.com/nkostopoulos/StochasticsLabPublic/master/lab8/bank-full.csv) και θα πρέπει να το φορτώσετε στο colab."
      ],
      "metadata": {
        "id": "b7eJ-CAZFumE"
      }
    },
    {
      "cell_type": "code",
      "source": [
        "dataset = pd.read_csv('bank-full.csv',sep=None)"
      ],
      "metadata": {
        "id": "86ayppUSywGN"
      },
      "execution_count": null,
      "outputs": []
    },
    {
      "cell_type": "code",
      "source": [
        "dataset.head()"
      ],
      "metadata": {
        "id": "BxZJ6WxiBhzz"
      },
      "execution_count": null,
      "outputs": []
    },
    {
      "cell_type": "code",
      "source": [
        "col_to_use = ['age','balance','day','duration','campaign','pdays','previous']\n",
        "data = dataset.drop(col_to_use,axis=1)"
      ],
      "metadata": {
        "id": "SEmiKBIEBprT"
      },
      "execution_count": 5,
      "outputs": []
    },
    {
      "cell_type": "code",
      "source": [
        "data.head()"
      ],
      "metadata": {
        "id": "R0VJ4MURBr8j"
      },
      "execution_count": null,
      "outputs": []
    },
    {
      "cell_type": "code",
      "source": [
        "data = data.apply(LabelEncoder().fit_transform)"
      ],
      "metadata": {
        "id": "Ne8KiG-9Bwk7"
      },
      "execution_count": 7,
      "outputs": []
    },
    {
      "cell_type": "code",
      "source": [
        "data.head()"
      ],
      "metadata": {
        "id": "fsTCBqDwBzvj"
      },
      "execution_count": null,
      "outputs": []
    },
    {
      "cell_type": "code",
      "source": [
        "data['job'].unique()"
      ],
      "metadata": {
        "id": "pq2Dc_-iB3P7"
      },
      "execution_count": null,
      "outputs": []
    },
    {
      "cell_type": "code",
      "source": [
        "dataset['job'].unique()"
      ],
      "metadata": {
        "id": "oiruDF0kB6Yz"
      },
      "execution_count": null,
      "outputs": []
    },
    {
      "cell_type": "code",
      "source": [
        "data_rest = dataset[col_to_use]\n",
        "data_rest.head()"
      ],
      "metadata": {
        "id": "2uQ7vgqsB9h7"
      },
      "execution_count": null,
      "outputs": []
    },
    {
      "cell_type": "code",
      "source": [
        "dataset2 = pd.concat([data_rest,data],axis=1)"
      ],
      "metadata": {
        "id": "bAIpmkjGCCdT"
      },
      "execution_count": 12,
      "outputs": []
    },
    {
      "cell_type": "code",
      "source": [
        "dataset2.head()"
      ],
      "metadata": {
        "id": "S2e_EIlxCE_z"
      },
      "execution_count": null,
      "outputs": []
    },
    {
      "cell_type": "markdown",
      "source": [
        "**Βήμα 3ο**: Σπάμε στο dataset σε train και test dataset και κάνουμε scale με τη χρήση της συνάρτησης StandardScaler()"
      ],
      "metadata": {
        "id": "7XPsWym0Gqmz"
      }
    },
    {
      "cell_type": "code",
      "source": [
        "X= dataset2.drop('y',axis=1)\n",
        "y= dataset2['y']\n",
        "\n",
        "X_train, X_test, y_train, y_test= train_test_split(X,y, test_size= 0.33, random_state= 4)"
      ],
      "metadata": {
        "id": "B1h_X0e7CI9b"
      },
      "execution_count": 14,
      "outputs": []
    },
    {
      "cell_type": "code",
      "source": [
        "scaler = StandardScaler()\n",
        "X_train = scaler.fit_transform(X_train)\n",
        "X_test = scaler.transform(X_test)"
      ],
      "metadata": {
        "id": "gTd1fz7sCMit"
      },
      "execution_count": 15,
      "outputs": []
    },
    {
      "cell_type": "code",
      "source": [
        "X_train"
      ],
      "metadata": {
        "id": "AvrG8ucrCN8j"
      },
      "execution_count": null,
      "outputs": []
    },
    {
      "cell_type": "markdown",
      "source": [
        "**Βήμα 4ο**: Ορίζουμε τα κέντρα των νευρώνων με τη χρήση του k-means. Αρχικά τρέχει ο αλγόριθμος k-means για να βρούμε τα κέντρα και την τυπική απόκλιση των clusters."
      ],
      "metadata": {
        "id": "XUomduVEG593"
      }
    },
    {
      "cell_type": "code",
      "source": [
        "K_cent= 8\n",
        "km= KMeans(n_clusters= K_cent, max_iter= 100)\n",
        "km.fit(X_train)\n",
        "cent= km.cluster_centers_"
      ],
      "metadata": {
        "id": "--5b0xEXCVl7"
      },
      "execution_count": 17,
      "outputs": []
    },
    {
      "cell_type": "code",
      "source": [
        "max=0 \n",
        "for i in range(K_cent):\n",
        "\tfor j in range(K_cent):\n",
        "\t\td= np.linalg.norm(cent[i]-cent[j])\n",
        "\t\tif(d> max):\n",
        "\t\t\tmax= d\n",
        "d= max\n",
        "\n",
        "sigma= d/math.sqrt(2*K_cent)"
      ],
      "metadata": {
        "id": "3sJgNJmQCXrM"
      },
      "execution_count": 18,
      "outputs": []
    },
    {
      "cell_type": "markdown",
      "source": [
        "Βήμα 5ο: Δημιουργούμε τον πίνακα σχέσεων F (γραμμικός συνδυασμός των Κ συναρτήσεων βάσης φj(x)."
      ],
      "metadata": {
        "id": "YJmzjR2gHNal"
      }
    },
    {
      "cell_type": "code",
      "source": [
        "shape= X_train.shape\n",
        "row= shape[0]\n",
        "column= K_cent\n",
        "F= np.empty((row,column), dtype= float)"
      ],
      "metadata": {
        "id": "sY7PlwoFCaxE"
      },
      "execution_count": 19,
      "outputs": []
    },
    {
      "cell_type": "code",
      "source": [
        "for i in range(row):\n",
        "  for j in range(column):\n",
        "    dist= np.linalg.norm(X_train[i]-cent[j])\n",
        "    F[i][j]= math.exp(-math.pow(dist,2)/math.pow(2*sigma,2))"
      ],
      "metadata": {
        "id": "erGPJDpSCfIL"
      },
      "execution_count": 20,
      "outputs": []
    },
    {
      "cell_type": "markdown",
      "source": [
        "**Βήμα 6ο**: Βρίσκουμε τον πίνακα βάρους W για την εκπαίδευση του δικτύου"
      ],
      "metadata": {
        "id": "2M4gFE3FHtbO"
      }
    },
    {
      "cell_type": "code",
      "source": [
        "FTG= np.dot(F.T,F)\n",
        "FTG_inv= np.linalg.inv(FTG)\n",
        "fac= np.dot(FTG_inv,F.T)\n",
        "W= np.dot(fac,y_train)"
      ],
      "metadata": {
        "id": "iTD1cf7jCipb"
      },
      "execution_count": 21,
      "outputs": []
    },
    {
      "cell_type": "markdown",
      "source": [
        "**Βήμα 7ο**: Ρύθμιση του πίνακα F για το test dataset"
      ],
      "metadata": {
        "id": "wrH3spL_H2vd"
      }
    },
    {
      "cell_type": "code",
      "source": [
        "row= X_test.shape[0]\n",
        "column= K_cent\n",
        "F_test= np.empty((row,column), dtype= float)\n",
        "for i in range(row):\n",
        "\tfor j in range(column):\n",
        "\t\tdist= np.linalg.norm(X_test[i]-cent[j])\n",
        "\t\tF_test[i][j]= math.exp(-math.pow(dist,2)/math.pow(2*sigma,2))"
      ],
      "metadata": {
        "id": "sH8s9fozClDj"
      },
      "execution_count": 22,
      "outputs": []
    },
    {
      "cell_type": "markdown",
      "source": [
        "**Βήμα 8ο**: Ακρίβεια πρόβλεψης στο test dataset"
      ],
      "metadata": {
        "id": "DItcYmHIIE0O"
      }
    },
    {
      "cell_type": "code",
      "source": [
        "prediction= np.dot(F_test,W)\n",
        "prediction= 0.5*(np.sign(prediction-0.5)+1)\n",
        "\n",
        "score= accuracy_score(prediction,y_test)\n",
        "print(score.mean())"
      ],
      "metadata": {
        "id": "SSgzAWxfCmtL"
      },
      "execution_count": null,
      "outputs": []
    },
    {
      "cell_type": "markdown",
      "source": [
        "## Ερωτήσεις\n",
        "\n",
        "**Ερώτηση 1**: Να αναφέρετε επιγραμματικά με ποιον τρόπο λειτουργεί ένα νευρωνικό δίκτυο RBF\n",
        "\n",
        "**Ερώτηση 2**:Με ποιούς τρόπους μπορούμε να υπολογίσουμε τα βάρη στα hidden layers; Ποιες διαφορές υπάρχουν στους τρόπους αυτούς; Ποιος παρέχει τη καλύτερη δυνατή λύση;\n",
        "\n",
        "**Ερώτηση 3**: Επιχειρήστε να αλλάξετε την τιμή του k σε 10 και στη συνέχεια σε 50. Τι παρατηρείτε ως προς την ακρίβεια των αποτελεσμάτων;"
      ],
      "metadata": {
        "id": "yQ5z71wlsEbk"
      }
    }
  ]
}
