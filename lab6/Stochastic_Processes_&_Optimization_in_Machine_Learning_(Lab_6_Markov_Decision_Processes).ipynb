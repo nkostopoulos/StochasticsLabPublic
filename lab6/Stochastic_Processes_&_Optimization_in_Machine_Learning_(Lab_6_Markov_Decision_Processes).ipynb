{
  "nbformat": 4,
  "nbformat_minor": 0,
  "metadata": {
    "colab": {
      "provenance": []
    },
    "kernelspec": {
      "name": "python3",
      "display_name": "Python 3"
    }
  },
  "cells": [
    {
      "cell_type": "markdown",
      "metadata": {
        "id": "XLZdEbAy2jfr"
      },
      "source": [
        "<h1><b>Markov Decision Processes</h1></b>\n",
        "<p align=\"justify\">Στη συγκεκριμένη άσκηση θα μελετήσετε τους αλγορίθμους <i>Policy Iteration</i> και <i>Value Iteration</i>, καθώς και θα εξοικειωθείτε με βασικές έννοιες των <i>Markov Decision Processes</i>. Οι αλγόριθμοι <i>Policy Iteration</i> και <i>Value Iteration</i> είναι από τους βασικούς αλγορίθμους δυναμικού προγραμματισμού που χρησιμοποιούνται για την επίλυση της εξίσωσης <i>Bellman</i> σε <i>Markov Decision Processes</i>.</p>\n",
        "<p align=\"justify\">Το πρόβλημα που θα μελετήσετε είναι αυτό της παγωμένης λίμνης (Frozen Lake) με μέγεθος πλέγματος 8 x 8.</p>\n"
      ]
    },
    {
      "cell_type": "markdown",
      "metadata": {
        "id": "6VsUV229__zO"
      },
      "source": [
        "<h2><b>Εξοικείωση με τη βιβλιοθήκη <i>Gym</i></b></h2>"
      ]
    },
    {
      "cell_type": "code",
      "metadata": {
        "id": "OM8ivgOJAg_H"
      },
      "source": [
        "!pip install gymnasium\n",
        "import numpy as np\n",
        "import gymnasium as gym\n",
        "from gym import wrappers"
      ],
      "execution_count": null,
      "outputs": []
    },
    {
      "cell_type": "markdown",
      "metadata": {
        "id": "_puV3ugeAnbU"
      },
      "source": [
        "Με την παρακάτω εντολή, ορίζετε το πρόβλημα που θα μελετηθεί:"
      ]
    },
    {
      "cell_type": "code",
      "metadata": {
        "id": "Ep-MvIUCAxT8"
      },
      "source": [
        "env_name = 'FrozenLake-v1'\n",
        "env = gym.make(env_name, map_name='8x8', render_mode='rgb_array')"
      ],
      "execution_count": 9,
      "outputs": []
    },
    {
      "cell_type": "markdown",
      "metadata": {
        "id": "uBKBXJDUBRUh"
      },
      "source": [
        "Με τις παρακάτω εντολές, θα επαναφέρετε τον Agent στην αρχική του θέση και θα οπτικοποιήσετε το πλέγμα και τη θέση του Agent"
      ]
    },
    {
      "cell_type": "code",
      "metadata": {
        "id": "p6lqbG9zBgdi"
      },
      "source": [
        "env.reset()\n",
        "env.render()"
      ],
      "execution_count": null,
      "outputs": []
    },
    {
      "cell_type": "markdown",
      "metadata": {
        "id": "FX2res4JBlYb"
      },
      "source": [
        "Με τις παρακάτω εντολές, ορίζετε την επόμενη ενέργεια με τυχαίο τρόπο και ο Agent κάνει ένα βήμα."
      ]
    },
    {
      "cell_type": "code",
      "metadata": {
        "id": "Gq7q944YBx0Q"
      },
      "source": [
        "next_action = env.action_space.sample()\n",
        "env.step(next_action)\n",
        "env.render()"
      ],
      "execution_count": null,
      "outputs": []
    },
    {
      "cell_type": "markdown",
      "metadata": {
        "id": "mV4A7lsLB54y"
      },
      "source": [
        "Να εκτελέσετε αρκετές φορές τις τελευταίες εντολές και να παρατηρήσετε κάθε φορά την ενέργεια που ζητείται από τον agent να εκτελέσει και την ενέργεια που αυτός πραγματοποιεί. Πραγματοποιεί πάντοτε ο agent την κίνηση που του ζητείται; Είναι ντετερμινιστικές ή στοχαστικές οι κινήσεις του agent;"
      ]
    },
    {
      "cell_type": "markdown",
      "metadata": {
        "id": "PAL4we3gDV_J"
      },
      "source": [
        "<h2><b>Ερωτήσεις</b></h2>"
      ]
    },
    {
      "cell_type": "markdown",
      "metadata": {
        "id": "zQKm4VAUChi1"
      },
      "source": [
        "<ul>\n",
        "<li>Μελετώντας <a href=\"https://machinelearningjourney.com/index.php/2020/07/02/frozenlake/\">αυτό</a> και βασισμένοι στα συμπεράσματα του προηγούμενου ερωτήματος να περιγράψετε σύντομα το πρόβλημα της παγωμένης λίμνης ως πρόβλημα βελτιστοποίησης. Ποιος είναι ο στόχος του agent;</li>\n",
        "<li>Να διατυπώσετε την ιδιότητα <i>Markov</i>. Πώς απλοποιεί η ιδιότητα αυτή τη μελέτη του συγκεκριμένου προβλήματος;</li>\n",
        "<li>Να περιγράψετε σύντομα τους αλγορίθμους <i>Policy Iteration</i> και <i>Value Iteration</i>, δίνοντας έμφαση στο διαφορετικό τρόπο με τον οποίο προσεγγίζουν την επίλυση του προβλήματος. Είναι εγγυημένο ότι οι δύο αλγόριθμοι θα συγκλίνουν στη βέλτιστη πολιτική; Αν ναι, οδηγούν σε ίδια ή διαφορετική βέλτιστη πολιτική;</li>\n",
        "<li>Να εκτελέσετε τα προγράμματα που σας δίνονται, τα οποία επιλύουν το\n",
        "πρόβλημα της παγωμένης λίμνης, χρησιμοποιώντας τους αλγορίθμους <i>Policy\n",
        "Iteration</i> και <i>Value Iteration</i> αντίστοιχα. Ποια μέθοδος συγκλίνει στη βέλτιστη λύση σε λιγότερα βήματα; Τι συμπέρασμα βγάζετε; Να ελέγξετε το χρόνο εκτέλεσης του κάθε προγράμματος, χρησιμοποιώντας την εντολή <i>time</i>. Τι συμπέρασμα βγάζετε ως προς την πολυπλοκότητα του κάθε αλγορίθμου;</li>\n",
        "</ul>"
      ]
    },
    {
      "cell_type": "markdown",
      "metadata": {
        "id": "S6mci5P4HJ_1"
      },
      "source": [
        "<h2><b>Policy Iteration</b></h2>"
      ]
    },
    {
      "cell_type": "code",
      "metadata": {
        "id": "_43MjfJ9G8v7"
      },
      "source": [
        "\"\"\"\n",
        "Solving FrozenLake8x8 environment using Policy iteration.\n",
        "Based on the implementation of Moustafa Alzantot (malzantot@ucla.edu)\n",
        "\"\"\"\n",
        "import numpy as np\n",
        "import gym\n",
        "from gym import wrappers\n",
        "\n",
        "\n",
        "def run_episode(env, policy, gamma = 1.0, render = False):\n",
        "    \"\"\" Runs an episode and return the total reward \"\"\"\n",
        "    obs = env.reset()\n",
        "    total_reward = 0\n",
        "    step_idx = 0\n",
        "    while True:\n",
        "        if render:\n",
        "            env.render()\n",
        "        obs, reward, done , _ , _= env.step(int(policy[obs]))\n",
        "        total_reward += (gamma ** step_idx * reward)\n",
        "        step_idx += 1\n",
        "        if done:\n",
        "            break\n",
        "    return total_reward\n",
        "\n",
        "\n",
        "def evaluate_policy(env, policy, gamma = 1.0, n = 100):\n",
        "    scores = [run_episode(env, policy, gamma, False) for _ in range(n)]\n",
        "    return np.mean(scores)\n",
        "\n",
        "def extract_policy(v, gamma = 1.0):\n",
        "    \"\"\" Extract the policy given a value-function \"\"\"\n",
        "    policy = np.zeros(env.observation_space.n) # Modified to use observation_space.n\n",
        "    for s in range(env.observation_space.n):   # Also modified here\n",
        "        q_sa = np.zeros(env.action_space.n)    # Using action_space.n\n",
        "        for a in range(env.action_space.n):\n",
        "            q_sa[a] = sum([p * (r + gamma * v[s_]) for p, s_, r, _ in  env.P[s][a]])\n",
        "        policy[s] = np.argmax(q_sa)\n",
        "    return policy\n",
        "\n",
        "def compute_policy_v(env, policy, gamma=1.0):\n",
        "    \"\"\" Iteratively evaluate the value-function under policy. \"\"\"\n",
        "    v = np.zeros(env.observation_space.n) # Modified to use observation_space.n\n",
        "    eps = 1e-10\n",
        "    while True:\n",
        "        prev_v = np.copy(v)\n",
        "        for s in range(env.observation_space.n): # Also modified here\n",
        "            policy_a = policy[s]\n",
        "            v[s] = sum([p * (r + gamma * prev_v[s_]) for p, s_, r, _ in env.P[s][policy_a]])\n",
        "        if (np.sum((np.fabs(prev_v - v))) <= eps):\n",
        "            # value converged\n",
        "            break\n",
        "    return v\n",
        "\n",
        "def policy_iteration(env, gamma = 1.0):\n",
        "    \"\"\" Policy-Iteration algorithm \"\"\"\n",
        "    # Using env.action_space.n for the number of actions\n",
        "    policy = np.random.choice(env.action_space.n, size=(env.observation_space.n))  # initialize a random policy\n",
        "    max_iterations = 200000\n",
        "    gamma = 1.0\n",
        "    for i in range(max_iterations):\n",
        "        old_policy_v = compute_policy_v(env, policy, gamma)\n",
        "        new_policy = extract_policy(old_policy_v, gamma)\n",
        "        if (np.all(policy == new_policy)):\n",
        "            print ('Policy-Iteration converged at step %d.' %(i+1))\n",
        "            break\n",
        "        policy = new_policy\n",
        "    return policy\n",
        "\n",
        "if __name__ == '__main__':\n",
        "    env_name  = 'FrozenLake8x8-v1'\n",
        "    env = gym.make(env_name)\n",
        "    env = env.unwrapped\n",
        "    optimal_policy = policy_iteration(env, gamma = 1.0)\n",
        "    scores = evaluate_policy(env, optimal_policy, gamma = 1.0)\n",
        "    print('Average scores = ', scores)  # Removed np.mean since evaluate_policy already returns the mean score"
      ],
      "execution_count": null,
      "outputs": []
    },
    {
      "cell_type": "markdown",
      "metadata": {
        "id": "gcikBq6BHRQM"
      },
      "source": [
        "<h2><b>Value Iteration</b></h2>"
      ]
    },
    {
      "cell_type": "code",
      "metadata": {
        "id": "gHvcnTDcHGmH"
      },
      "source": [
        "\"\"\"\n",
        "Solving FrozenLake8x8 environment using Value-Itertion.\n",
        "Based on the implementation of Moustafa Alzantot (malzantot@ucla.edu)\n",
        "\"\"\"\n",
        "import numpy as np\n",
        "import gym\n",
        "from gym import wrappers\n",
        "\n",
        "\n",
        "def run_episode(env, policy, gamma=1.0, render=False):\n",
        "    \"\"\"Runs an episode and returns the total reward.\"\"\"\n",
        "    obs = env.reset()\n",
        "    total_reward = 0\n",
        "    step_idx = 0\n",
        "    while True:\n",
        "        if render:\n",
        "            env.render()\n",
        "        obs, reward, done, _ , _ = env.step(int(policy[obs]))\n",
        "        total_reward += (gamma ** step_idx * reward)\n",
        "        step_idx += 1\n",
        "        if done:\n",
        "            break\n",
        "    return total_reward\n",
        "\n",
        "def evaluate_policy(env, policy, gamma=1.0, n=100):\n",
        "    \"\"\"Evaluates a policy by running it n times.\"\"\"\n",
        "    scores = [run_episode(env, policy, gamma, False) for _ in range(n)]\n",
        "    return np.mean(scores)\n",
        "\n",
        "def extract_policy(v, gamma, env):\n",
        "    \"\"\"Extracts the policy given a value-function.\"\"\"\n",
        "    policy = np.zeros(env.observation_space.n, dtype=int)\n",
        "    for s in range(env.observation_space.n):\n",
        "        q_sa = np.zeros(env.action_space.n)\n",
        "        for a in range(env.action_space.n):\n",
        "            for p, s_, r, _ in env.P[s][a]:\n",
        "                q_sa[a] += (p * (r + gamma * v[s_]))\n",
        "        policy[s] = np.argmax(q_sa)\n",
        "    return policy\n",
        "\n",
        "def value_iteration(env, gamma=1.0):\n",
        "    \"\"\"Performs value iteration.\"\"\"\n",
        "    v = np.zeros(env.observation_space.n)  # initialize value-function\n",
        "    max_iterations = 100000\n",
        "    eps = 1e-20\n",
        "    for i in range(max_iterations):\n",
        "        prev_v = np.copy(v)\n",
        "        for s in range(env.observation_space.n):\n",
        "            q_sa = [sum([p * (r + gamma * prev_v[s_]) for p, s_, r, _ in env.P[s][a]]) for a in range(env.action_space.n)]\n",
        "            v[s] = max(q_sa)\n",
        "        if (np.sum(np.fabs(prev_v - v)) <= eps):\n",
        "            print(f'Value-iteration converged at iteration# {i+1}.')\n",
        "            break\n",
        "    return v\n",
        "\n",
        "if __name__ == '__main__':\n",
        "    env_name = 'FrozenLake8x8-v1'  # Make sure to use the correct environment version\n",
        "    gamma = 1.0\n",
        "    env = gym.make(env_name)\n",
        "    env = env.unwrapped  # Note: Unwrapping might not always be necessary or desired\n",
        "    optimal_v = value_iteration(env, gamma)\n",
        "    policy = extract_policy(optimal_v, gamma, env)\n",
        "    policy_score = evaluate_policy(env, policy, gamma, n=1000)\n",
        "    print('Policy average score = ', policy_score)\n"
      ],
      "execution_count": null,
      "outputs": []
    }
  ]
}