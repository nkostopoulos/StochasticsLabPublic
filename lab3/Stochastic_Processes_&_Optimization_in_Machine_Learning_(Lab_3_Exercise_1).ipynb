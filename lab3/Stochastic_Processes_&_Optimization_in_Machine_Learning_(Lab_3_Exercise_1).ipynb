{
  "nbformat": 4,
  "nbformat_minor": 0,
  "metadata": {
    "colab": {
      "name": "Stochastic_Processes_&_Optimization_in_Machine_Learning_(Lab_3_Exercise_1).ipynb",
      "provenance": [],
      "collapsed_sections": []
    },
    "kernelspec": {
      "name": "python3",
      "display_name": "Python 3"
    }
  },
  "cells": [
    {
      "cell_type": "code",
      "metadata": {
        "id": "IcBgq3bsLNhz",
        "colab_type": "code",
        "colab": {}
      },
      "source": [
        ""
      ],
      "execution_count": 0,
      "outputs": []
    },
    {
      "cell_type": "markdown",
      "metadata": {
        "id": "_6YO9eG4oROg",
        "colab_type": "text"
      },
      "source": [
        "<h1><b>Άσκηση 1</b></h1>\n",
        "<p align=\"justify\">Στο ακόλουθο σχήμα φαίνεται η κάτοψη ενός σπιτιού με πέντε δωμάτια: <i>Κουζίνα (<b>Κ</b>)</i>, <i>Βιβλιοθήκη (<b>Β</b>)</i>, <i>Σαλόνι (<b>Σ</b>)</i>, <i>Υπνοδωμάτιο (<b>Υ</b>)</i> και <i>Μπάνιο (<b>Μ</b>)<i>, καθώς και οι πόρτες που τα συνδέουν. Ένα έντομο που ζει στο σπίτι διασχίζει κάθε βράδυ τυχαία μια από τις πόρτες του δωματίου στο οποίο βρίσκεται και παραμένει στο δωμάτιο που οδηγεί η πόρτα μέχρι το επόμενο βράδυ. Αρχικά το έντομο βρίσκεται στο <i>Μπάνιο</i>. Αν {X<sub>n</sub>}<sub>n</sub> είναι η μαρκοβιανή αλυσίδα που περιγράφει τη θέση του εντόμου μετά από n βράδια:<p>\n",
        "<ul>\n",
        "<li>Να περιγράψετε το χώρο καταστάσεων X της μαρκοβιανής αλυσίδας.</li>\n",
        "<li>Να προσδιορίσετε τον πίνακα πιθανοτήτων μετάβασης P της μαρκοβιανής αλυσίδας.</li>\n",
        "</ul>\n",
        "\n",
        "<img src=\"https://raw.githubusercontent.com/nkostopoulos/StochasticsLabPublic/master/lab3/ex1.png\"></img>\n"
      ]
    }
  ]
}
