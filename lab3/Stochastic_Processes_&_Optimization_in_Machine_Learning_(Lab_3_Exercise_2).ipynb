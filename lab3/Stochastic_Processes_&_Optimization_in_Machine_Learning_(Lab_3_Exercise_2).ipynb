{
  "nbformat": 4,
  "nbformat_minor": 0,
  "metadata": {
    "colab": {
      "name": "Stochastic_Processes_&_Optimization_in_Machine_Learning_(Lab_3_Exercise_2).ipynb",
      "provenance": [],
      "collapsed_sections": [],
      "toc_visible": true
    },
    "kernelspec": {
      "name": "python3",
      "display_name": "Python 3"
    }
  },
  "cells": [
    {
      "cell_type": "code",
      "metadata": {
        "id": "e27L4xmNrWGR",
        "colab_type": "code",
        "colab": {}
      },
      "source": [
        ""
      ],
      "execution_count": 0,
      "outputs": []
    },
    {
      "cell_type": "markdown",
      "metadata": {
        "id": "xBgJvYpPrY_t",
        "colab_type": "text"
      },
      "source": [
        "<h1><b>Άσκηση 2</b></h1>\n",
        "<p align=\"justify\">Σας δίνεται η παρακάτω στοχαστική μήτρα πιθανοτήτων P μιας μαρκοβιανής αλυσίδας. Από τη μήτρα αυτή έχουν παραλειφθεί ορισμένα στοιχεία:</p>\n",
        "<img src=\"https://raw.githubusercontent.com/nkostopoulos/StochasticsLabPublic/master/lab3/ex2.PNG\"><img>\n",
        "<ul>\n",
        "<li>Να συμπληρώσετε τα κενά της μήτρας πιθανοτήτων P της μαρκοβιανής αλυσίδας.</li>\n",
        "<li>Χρησιμοποιώντας τον <a href=\"http://setosa.io/markov/index.html#%7B%22tm%22%3A%5B%5B0.6%2C0.2%2C0%2C0%2C0%2C0.2%5D%2C%5B0.2%2C0.6%2C0.2%2C0%2C0%2C0%5D%2C%5B0%2C0.2%2C0.6%2C0.2%2C0%2C0%5D%2C%5B0%2C0%2C0.2%2C0.6%2C0.2%2C0%5D%2C%5B0%2C0%2C0%2C0.2%2C0.6%2C0.2%5D%2C%5B0.2%2C0%2C0%2C0%2C0.2%2C0.6%5D%5D%7D\">προσομοιωτή</a> να σχεδιάσετε την παραπάνω μαρκοβιανή αλυσίδα και να ταξινομήσετε τις καταστάσεις της σε κλάσεις επικοινωνίας. Πώς αποκαλείται μια τέτοια αλυσίδα με κριτήριο τις κλάσεις επικοινωνίας; Τι συμπέρασμα βγάζετε σχετικά με την ύπαρξη αναλλοίωτης κατανομής για την αλυσίδα;</li>\n",
        "<li>Χρησιμοποιώντας τον κώδικα που παρατίθεται στο τέλος της άσκησης θα εκτιμήσετε την αναλλοίωτη κατανομή της μαρκοβιανής αλυσίδας με τη μέθοδο της προσομοίωσης. Το πρόγραμμα: (α) ορίζει τη μήτρα πιθανοτήτων και την αρχική κατανομή της αλυσίδας, (β) ορίζει το μοντέλο της και (γ) εκτιμά την αναλλοίωτη κατανομή της αλυσίδας για κάθε κατάσταση, διαιρώντας τον αριθμό των επισκέψεων στην κατάσταση αυτή με το συνολικό αριθμό των βημάτων της αλυσίδας (παράμετρος <i>total_runs</i>). Το πρόγραμμα δίνει ως έξοδο ένα ραβδόγραμμα που απεικονίζει την αναλλοίωτη κατανομή της αλυσίδας. Να καταγράψετε το αποτέλεσμα της εκτέλεσης του προγράμματος για συνολικό αριθμό βημάτων της αλυσίδας (α) 500, (β) 1,000, (γ) 10,000, (δ) 100,000, (ε) 1,000,000, (στ) 10,000,000 και (ζ) 100,000,000. Πόσο μεταβάλεται η εκτίμηση ανάμεσα σε κάθε έξοδο; Τι παρατηρείτε σχετικά με το συνολικό χρόνο εκτέλεσης της προσομοίωσης ανάλογα με το συνολικό αριθμό βημάτων της αλυσίδας; Κατά τη γνώμη σας, ποια τιμή του συνολικού αριθμού των βημάτων της αλυσίδας επιτυγχάνει μια ικανοποιητική ισορροπία ανάμεσα στην ακρίβεια του αποτελέσματος και το συνολικό χρόνο εκτέλεσης της προσομοίωσης; <b>Για να τρέξετε το πρόγραμμα θα πρέπει να έχετε φορτώσει το αρχείο <i><a href=\"https://github.com/nkostopoulos/StochasticsLabPublic/blob/master/lab3/simple_markov_chain_lib.py\">simple_markov_chain_lib.py</a></i>.</b></li>\n",
        "<li>Τι παρατηρείτε σχετικά με τις τιμές της αναλλοίωτης κατανομής της παραπάνω μαρκοβιανής αλυσίδας; Να υπολογίσετε το άθροισμα των στοιχείων κάθε στήλης της μήτρας πιθανοτήτων <b>P</b>. Πώς ονομάζεται μία τέτοια μήτρα πιθανοτήτων και τι ισχύει για την αναλλοίωτη κατανομή μιας τέτοιας αλυσίδας;</li>\n"
      ]
    },
    {
      "cell_type": "code",
      "metadata": {
        "id": "utJ4k__vIseq",
        "colab_type": "code",
        "colab": {}
      },
      "source": [
        "from __future__ import division\n",
        "from simple_markov_chain_lib import markov_chain\n",
        "import numpy as np\n",
        "import matplotlib.pyplot as plt\n",
        "\n",
        "def defineMarkovTable(): \n",
        "\tmarkov_table = {\n",
        "\t\t0: {0: 0.6, 1: 0.2, 5: 0.2},\n",
        "\t\t1: {0: 0.2, 1: 0.6, 2: 0.2},\n",
        "\t\t2: {1: 0.2, 2: 0.6, 3: 0.2},\n",
        "\t\t3: {2: 0.2, 3: 0.6, 4: 0.2},\n",
        "\t\t4: {3: 0.2, 4: 0.6, 5: 0.2},\n",
        "\t\t5: {0: 0.2, 4: 0.2, 5: 0.6}\n",
        "        }\n",
        "\n",
        "\treturn markov_table\n",
        "\n",
        "def defineInitDistribution():\n",
        "\tinit_dist = {0: 1.}\n",
        "\t\n",
        "\treturn init_dist\n",
        "\n",
        "def calculateFrequencyTable(markov_table,init_dist):\n",
        "\ttotal_runs = 10000\n",
        "\n",
        "\tvisits = list()\n",
        "\tvisits = [0] * len(markov_table)\n",
        "\n",
        "\tfor index in range(total_runs):\n",
        "\t\tmc.move()\n",
        "\t\tvisits[mc.running_state] += 1\n",
        "\t\n",
        "\tfrequency = [v/total_runs for v in visits]\n",
        "\t\n",
        "\treturn frequency\n",
        "\n",
        "def printFrequencies(frequency, markov_table):\n",
        "\tfor state in range(0, len(markov_table)) :\n",
        "\t\tprint(str(state) + \": \", str(frequency[state]))\n",
        "\t\n",
        "\treturn None\n",
        "\n",
        "def plotFrequencies(frequency):\n",
        "\tobjects = ('1', '2', '3', '4', '5', '6')\n",
        "\ty_pos = np.arange(len(objects))\n",
        "\t\n",
        "\tplt.bar(y_pos, frequency, align='center', alpha=0.5)\n",
        "\tplt.xticks(y_pos, objects)\n",
        "\tplt.ylabel('States')\n",
        "\tplt.title('Frequencies')\n",
        "\tplt.show()\n",
        "\t\n",
        "\treturn None\n",
        "\n",
        "if __name__ == \"__main__\":\n",
        "\tmarkov_table = defineMarkovTable()\n",
        "\tinit_dist = defineInitDistribution()\n",
        "\tmc = markov_chain(markov_table, init_dist)\n",
        "\tmc.start()\n",
        "\n",
        "\tfrequency = calculateFrequencyTable(markov_table, init_dist)\n",
        "\tprintFrequencies(frequency, markov_table)\n",
        "\tplotFrequencies(frequency)"
      ],
      "execution_count": 0,
      "outputs": []
    }
  ]
}
