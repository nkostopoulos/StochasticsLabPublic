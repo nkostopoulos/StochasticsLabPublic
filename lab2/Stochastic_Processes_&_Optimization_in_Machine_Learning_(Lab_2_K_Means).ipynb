{
  "nbformat": 4,
  "nbformat_minor": 0,
  "metadata": {
    "colab": {
      "name": "Stochastic_Processes_&_Optimization_in_Machine_Learning_(Lab_2_K_Means).ipynb",
      "provenance": []
    },
    "kernelspec": {
      "name": "python3",
      "display_name": "Python 3"
    }
  },
  "cells": [
    {
      "cell_type": "markdown",
      "metadata": {
        "id": "UqDCtCWt_uJw"
      },
      "source": [
        "<h1><b>Ο Αλγόριθμος k-means</b></h1>\n",
        "<p align=\"justify\">Στην άσκηση αυτή θα μελετήσετε τον αλγόριθμο μη επιβλεπόμενης μάθησης <a href=\"https://en.wikipedia.org/wiki/K-means_clustering\"><i>k-means</i></a>, κατασκευάζοντας ένα σύντομο πρόγραμμα. Για την παρούσα άσκηση θα χρησιμοποιήσετε τη βιβλιοθήκη <i>Scikit-Learn</i> της <i>Python</i>. Συγκεκριμένα, θα διαχωρίσετε σε <i>συστάδες (clusters)</i> 150 παραδείγματα του φυτού <i>Ίρις</i> με βάση το unlabeled dataset που σας δίνεται στο τέλος της εκφώνησης και με βάση αυτό μπορείτε να χτίσετε και το ενιαίο πρόγραμμα που θα σας ζητηθεί. Τα <i>χαρακτηριστικά (features)</i> που περιλαμβάνονται στο <i>dataset</i> και που περιγράφουν το κάθε παράδειγμα είναι τα εξής: το <i>μήκος του Σέπαλου (sepal length)</i>, το <i>πλάτος του Σέπαλου (sepal width)</i>, το <i>μήκος των Πετάλων (petal length)</i> και το <i>πλάτος των Πετάλων (petal width)</i>.</p>\n",
        "<p>Καλείστε να αναπτύξετε ένα ενιαίο πρόγραμμα που να κάνει τα παρακάτω:</p>\n",
        "<ul>\n",
        "<li>Να υλοποιεί την μέθοδο <a href=\"https://en.wikipedia.org/wiki/Elbow_method_(clustering)\"><i>«Elbow»</i></a> στο δείγμα του φυτού <i>Ίρις</i>, ώστε να εντοπίσετε έναν επαρκή αριθμό <i>συστάδων</i>. Τι παρατηρείτε;</li>\n",
        "<li>Να υλοποιεί τον αλγόριθμο <i>k-means</i> με βάση τον αριθμό <i>συστάδων</i> που βρήκατε στο προηγούμενο ερώτημα. Περιγράψτε πώς λειτουργεί ο αλγόριθμος.</li>\n",
        "<li>Επιχειρήστε να υλοποιήσετε ελέγχους σχετικά με την απόδοση του αλγορίθμου\n",
        "(<i>Ακρίβειας – Accuracy</i>, <a href=\"https://en.wikipedia.org/wiki/Confusion_matrix\"><i>Τιμές Μήτρας Λαθών – Error Matrix</i></a>).</li>\n",
        "</ul>"
      ]
    },
    {
      "cell_type": "code",
      "metadata": {
        "id": "AKD4pxD3AFRE"
      },
      "source": [
        "import matplotlib.pyplot as plt\n",
        "from sklearn import datasets\n",
        "from sklearn.cluster import KMeans\n",
        "import sklearn.metrics as sm\n",
        " \n",
        "import pandas as pd\n",
        "import numpy as np"
      ],
      "execution_count": 1,
      "outputs": []
    },
    {
      "cell_type": "code",
      "metadata": {
        "id": "nB5RhnF3ALt3"
      },
      "source": [
        "# import some data to play with (from sklearn)\n",
        "iris = datasets.load_iris().data\n",
        "print(iris)"
      ],
      "execution_count": null,
      "outputs": []
    },
    {
      "cell_type": "code",
      "metadata": {
        "id": "pM0Yj-NGAQ4u"
      },
      "source": [
        "#print is optional\n",
        "print(iris.data)\n",
        "iris.feature_names\n",
        "print(iris.target)\n",
        "iris.target_names"
      ],
      "execution_count": null,
      "outputs": []
    },
    {
      "cell_type": "code",
      "metadata": {
        "id": "QkWS8QAOATrX"
      },
      "source": [
        "# Store the inputs as a Pandas Dataframe and set the column names\n",
        "x = pd.DataFrame(iris.data)\n",
        "x.columns = ['Sepal_Length','Sepal_Width','Petal_Length','Petal_Width']"
      ],
      "execution_count": null,
      "outputs": []
    },
    {
      "cell_type": "code",
      "metadata": {
        "id": "umJDBdPoAW0O"
      },
      "source": [
        "y = pd.DataFrame(iris.target)\n",
        "y.columns = ['Targets']"
      ],
      "execution_count": null,
      "outputs": []
    }
  ]
}