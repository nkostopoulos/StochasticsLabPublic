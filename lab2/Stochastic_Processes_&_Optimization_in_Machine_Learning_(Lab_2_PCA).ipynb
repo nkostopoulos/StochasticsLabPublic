{
  "nbformat": 4,
  "nbformat_minor": 0,
  "metadata": {
    "colab": {
      "provenance": []
    },
    "kernelspec": {
      "name": "python3",
      "display_name": "Python 3"
    }
  },
  "cells": [
    {
      "cell_type": "markdown",
      "metadata": {
        "id": "s_xjbOW-TkC3"
      },
      "source": [
        "<h1><b><i>Principal Component Analysis</i> (<i>PCA</i>) </b></h1>\n",
        "\n",
        "<p>Στην άσκηση αυτή θα μελετήσετε τον αλγόριθμο <b><i>ανάλυσης σε κύριες συνιστώσες</i></b> (<b><i>Principal Component Analysis</i></b>, <b><i>PCA</i></b>), υλοποιημένο σύμφωνα με τη <b><i>μέθοδο συνδιακύμανσης</i></b> (<b><i>covariance method</i></b>). Για να κατανοήσετε τη χρησιμότητα της μεθόδου θα εκπαιδεύσετε και θα αξιολογήσετε την ακρίβεια ενός μοντέλου <b><i>logistic regression</i></b> για ένα dataset πριν και μετά την εφαρμογή του αλγορίθμου <b><i>PCA</i></b>. Περισσότερες πληροφορίες για τη μέθοδο αυτή μπορείτε να αναζητήσετε <a href=\"https://ourarchive.otago.ac.nz/handle/10523/7534\">εδώ</a>.</p>\n",
        "\n",
        "<p>Η άσκηση περιλαμβάνει <b><i>δύο</i></b> προγράμματα <i>Python</i>: (a) το πρώτο δέχεται ένα dataset σε μορφή .<i>csv</i>, εφαρμόζει τον αλγόριθμο <b><i>PCA</i></b> και δημιουργεί το αρχείο <b><i>foo.csv</i></b> με το μετασχηματισμένο dataset, όπως προκύπτει από τις κύριες συνιστώσες που επέλεξε ο χρήστης να διατηρήσει, (b) το δεύτερο δέχεται ένα αρχείο σε μορφή .<i>csv</i>, διαχωρίζει το dataset σε <i>training</i> και <i>test set</i>, εκπαιδεύει ένα μοντέλο <b><i>logistic regression</i></b>, χρησιμοποιώντας το <i>training set</i> και υπολογίζει τον αριθμό των σφαλμάτων του μοντέλου πάνω στο <i>test set</i>.</p>\n",
        "\n",
        "<p>Το dataset που θα χρησιμοποιήσετε παρέχεται σε δύο μορφές: (a) <b><i><a href=\"https://raw.githubusercontent.com/nkostopoulos/StochasticsLabPublic/master/lab2/demo3a.csv\">demo3a.csv</a></i></b> και (b) <b><i><a href=\"https://github.com/nkostopoulos/StochasticsLabPublic/blob/master/lab2/demo3b.csv\">demo3b.csv</a></i></b>, το οποίο δεν περιλαμβάνει την πρώτη στήλη του <b><i><a href=\"https://raw.githubusercontent.com/nkostopoulos/StochasticsLabPublic/master/lab2/demo3a.csv\">demo3a.csv</a></i></b>, δηλαδή τα <i>labels</i> που αντιστοιχούν σε κάθε είσοδο. Τα datasets αυτά αποτελούν απλοποιημένη μορφή του dataset που μπορεί να βρεθεί <a href=\"https://archive.ics.uci.edu/ml/datasets/wine\">εδώ</a>.</p>\n",
        "\n",
        "<h3><b><i>Ανάλυση σε Κύριες Συνιστώσες</i></b></h3>\n",
        "<p>Αρχικά, θα φορτώσετε τις βιβλιοθήκες που απαιτούνται για το πρόγραμμα που θα αναλύσει το dataset <b><i><a href=\"https://github.com/nkostopoulos/StochasticsLabPublic/blob/master/lab2/demo3b.csv\">demo3b.csv</a></i></b> στις κύριες συνιστώσες του.</p>\n",
        "\n",
        "\n"
      ]
    },
    {
      "cell_type": "code",
      "metadata": {
        "id": "KDcaQZ2ofeum"
      },
      "source": [
        "!pip install numpy\n",
        "#https://machinelearningmastery.com/calculate-principal-component-analysis-scratch-python/\n",
        "from numpy import genfromtxt\n",
        "from numpy import mean\n",
        "from numpy import cov\n",
        "from numpy.linalg import eig\n",
        "import numpy as np"
      ],
      "execution_count": null,
      "outputs": []
    },
    {
      "cell_type": "markdown",
      "metadata": {
        "id": "pMilxe9Uf-WT"
      },
      "source": [
        "<p>Στη συνέχεια, θα φορτώσετε το dataset <b><i></i></b></p>"
      ]
    },
    {
      "cell_type": "code",
      "metadata": {
        "id": "k92Gv9dwftZp"
      },
      "source": [
        "data = genfromtxt('https://raw.githubusercontent.com/nkostopoulos/StochasticsLabPublic/master/lab2/demo3b.csv', delimiter=',')"
      ],
      "execution_count": 2,
      "outputs": []
    },
    {
      "cell_type": "markdown",
      "metadata": {
        "id": "ydl-AyxahG2b"
      },
      "source": [
        "<p>Έπειτα, θα υπολογίσετε το μέσο όρο κάθε στήλης (feature) του dataset και θα κανονικοποιήσετε κάθε feature με αυτόν</p>"
      ]
    },
    {
      "cell_type": "code",
      "metadata": {
        "id": "QU4TQXw2g4xF"
      },
      "source": [
        "M = mean(data.T, axis=1)\n",
        "data_normal = data - M"
      ],
      "execution_count": 3,
      "outputs": []
    },
    {
      "cell_type": "markdown",
      "metadata": {
        "id": "BYWD8ozQh-h8"
      },
      "source": [
        "<p>Στη συνέχεια, θα υπολογίσετε το <b><i>πίνακα συνδιακύμανσης</i></b> (<b><i>covariance matrix</i></b>) για το dataset</p>"
      ]
    },
    {
      "cell_type": "code",
      "metadata": {
        "id": "N3B6Pw6diHxe"
      },
      "source": [
        "covariance = cov(data_normal.T)\n",
        "print(\"The covariance matrix of the normalized data is the following: \")\n",
        "print(covariance)"
      ],
      "execution_count": null,
      "outputs": []
    },
    {
      "cell_type": "markdown",
      "metadata": {
        "id": "rFxfxGxbiPsm"
      },
      "source": [
        "<p>Το επόμενο βήμα είναι να υπολογίσετε τις <b><i>ιδιοτιμές</i></b> (<b><i>eigenvalues</i></b>) και τα <b><i>ιδιοδιανύσματα</i></b> (<b><i>eigenvectors</i></b>) του dataset.</p>"
      ]
    },
    {
      "cell_type": "code",
      "metadata": {
        "id": "nyqu1myLieP3",
        "outputId": "deb4e078-bc38-4b55-a676-b9fbd86b39e9",
        "colab": {
          "base_uri": "https://localhost:8080/"
        }
      },
      "source": [
        "values, vectors = eig(covariance)\n",
        "print(\"The eigenvalues of the normalized data are the following: \")\n",
        "print(values)"
      ],
      "execution_count": 5,
      "outputs": [
        {
          "output_type": "stream",
          "name": "stdout",
          "text": [
            "The eigenvalues of the normalized data are the following: \n",
            "[1.24313073e+05 1.93456026e+02 9.50168321e+00 1.32500169e+00\n",
            " 8.10595669e-01 4.51081713e-01 2.69157831e-01 1.60993380e-01\n",
            " 1.11100343e-01 6.13399000e-03 2.19782528e-02 3.20312852e-02\n",
            " 5.87421686e-02]\n"
          ]
        }
      ]
    },
    {
      "cell_type": "markdown",
      "metadata": {
        "id": "51_NKEP2imoW"
      },
      "source": [
        "<p>Στη συνέχεια, θα επιλέξετε τις πιο σημαντικές <b><i>ιδιοτιμές</i></b> και θα προσαρμόσετε αντίστοιχα τα <b><i>ιδιοδιανύσματα</i></b> του dataset.</p>"
      ]
    },
    {
      "cell_type": "code",
      "metadata": {
        "id": "Dee3ENf1i4Lx"
      },
      "source": [
        "new_values = values[0:3]\n",
        "print(\"The most important eigenvalues are the following: \")\n",
        "print(new_values)\n",
        "new_vectors = vectors[0:3]\n",
        "print(\"The most important eigenvectors are the following: \")\n",
        "print(new_vectors)"
      ],
      "execution_count": null,
      "outputs": []
    },
    {
      "cell_type": "markdown",
      "metadata": {
        "id": "6IVdHr-Ti-O5"
      },
      "source": [
        "<p>Τώρα, θα εφαρμόσετε τα νέα <b><i>ιδιοδιανύσματα</i></b> στο παλιό dataset για να πάρετε το νέο, μειωμένο σε μέγεθος dataset.</p>"
      ]
    },
    {
      "cell_type": "code",
      "metadata": {
        "id": "HtJouKmSjPbD"
      },
      "source": [
        "new_data = new_vectors.dot(data_normal.T)"
      ],
      "execution_count": 7,
      "outputs": []
    },
    {
      "cell_type": "markdown",
      "metadata": {
        "id": "o5B93KQ3jTpf"
      },
      "source": [
        "<p>Να αποθηκεύσετε το νέο dataset σε ένα αρχείο <i>csv</i>.</p>"
      ]
    },
    {
      "cell_type": "code",
      "metadata": {
        "id": "W1uY6kFWjflf"
      },
      "source": [
        "np.savetxt(\"foo.csv\", new_data.T, delimiter=\",\")"
      ],
      "execution_count": 8,
      "outputs": []
    },
    {
      "cell_type": "markdown",
      "metadata": {
        "id": "8u085fpWjnPD"
      },
      "source": [
        "<h4><b><i>Ερωτήσεις</i></b></h4>\n",
        "<ul>\n",
        "<li>Να μελετήσετε το παραπάνω πρόγραμμα και να περιγράψετε, σύντομα, τα βήματα που ακολουθεί ο αλγόριθμος <b><i>PCA</i></b>, υλοποιημένος με τη μέθοδο <b><i>covariance</i></b>. Να συμπεριλάβετε και τις μαθηματικές πράξεις.</li>\n",
        "<li>Να εφαρμόσετε τον αλγόριθμο <b><i>PCA</i></b> πάνω στα δεδομένα του αρχείου <i><a href=\"https://github.com/nkostopoulos/StochasticsLabPublic/blob/master/lab2/demo3b.csv\">demo3b.csv</a></i>. Στη συνέχεια, να καταγράψετε τον <i>πίνακα συνδιακύμανσης</i> του dataset και τις ιδιοτιμές του πίνακα αυτού. Τι υποδηλώνουν οι θετικές και τι οι αρνητικές τιμές του <i>πίνακα συνδιακύμανσης</i>; Να διατάξετε τις <i>ιδιοτιμές</i> σε φθίνουσα σειρά. Τι παρατηρείτε για τις τρεις πρώτες σε σχέση με τις υπόλοιπες; Πόσες <i>κύριες συνιστώσες</i> επιλέγει να διατηρήσει ο αλγόριθμος;</li>\n",
        "</ul>"
      ]
    },
    {
      "cell_type": "markdown",
      "metadata": {
        "id": "DBRxVL9BmqGw"
      },
      "source": [
        "<h3><b><i>Logistic Regression</i></b></h3>\n",
        "\n",
        "<p>Αρχικά, θα φορτώσετε τις απαραίτητες βιβλιοθήκες.</p>"
      ]
    },
    {
      "cell_type": "code",
      "metadata": {
        "id": "MiGjiOEQnpwn"
      },
      "source": [
        "!pip install pandas\n",
        "!pip install numpy\n",
        "!pip install matplotlib\n",
        "!pip install sklearn\n",
        "import pandas as pd\n",
        "import numpy as np\n",
        "import matplotlib.pyplot as plt\n",
        "from sklearn.model_selection import train_test_split\n",
        "from sklearn.decomposition import PCA\n",
        "from sklearn.preprocessing import StandardScaler\n",
        "from sklearn.linear_model import LogisticRegression"
      ],
      "execution_count": null,
      "outputs": []
    },
    {
      "cell_type": "markdown",
      "metadata": {
        "id": "JnNo_v4Jn3gn"
      },
      "source": [
        "Στη συνέχεια, θα φορτώσετε τα datasets που θα χρησιμοποιηθούν για την εκπαίδευση του μοντέλου <b><i>logistic regression</i></b>. Στην πρώτη περίπτωση, θα εκπαιδεύσετε το μοντέλο, χρησιμοποιώντας το αρχείο <i><a href=\"https://raw.githubusercontent.com/nkostopoulos/StochasticsLabPublic/master/lab2/demo3a.csv\">demo3a.csv</a></i>. Στη δεύτερη περίπτωση, θα φορτώσετε το αρχείο <i>foo.csv</i> που πήρατε ως έξοδο από το προηγούμενο τμήμα κώδικα της άσκησης (<i>Ανάλυση σε Κύριες Συνιστώσες</i>), προσθέτοντας στην πρώτη στήλη του αρχείου τα labels που υπάρχουν στην πρώτη στήλη του αρχείου <a href=\"https://raw.githubusercontent.com/nkostopoulos/StochasticsLabPublic/master/lab2/demo3a.csv\"><i>demo3a.csv</i></a>."
      ]
    },
    {
      "cell_type": "code",
      "metadata": {
        "id": "7cJDDmjxpSTT"
      },
      "source": [
        "df = pd.read_csv(\"https://raw.githubusercontent.com/nkostopoulos/StochasticsLabPublic/master/lab2/demo3a.csv\")\n",
        "#df = pd.read_csv(\"foo.csv\")"
      ],
      "execution_count": 11,
      "outputs": []
    },
    {
      "cell_type": "markdown",
      "metadata": {
        "id": "nyQn9Hjapdjj"
      },
      "source": [
        "<p>Έπειτα, θα χωρίσετε το dataset σε <i>training</i> και <i>test set</i>.</p>"
      ]
    },
    {
      "cell_type": "code",
      "metadata": {
        "id": "NuWbSbVwpWUe"
      },
      "source": [
        "# Separate the input features from the target variable\n",
        "x = df.iloc[:,1:13].values\n",
        "y = df.iloc[:,0].values\n",
        "# Split the dataset into train and test set\n",
        "Xtrain,Xtest,Ytrain,Ytest = train_test_split(x,y, test_size = 0.2)"
      ],
      "execution_count": 12,
      "outputs": []
    },
    {
      "cell_type": "markdown",
      "metadata": {
        "id": "HFvPctcepyai"
      },
      "source": [
        "<p>Έπειτα, θα εκπαιδεύσετε το μοντέλο <b><i>Logistic Regression</i></b></p>"
      ]
    },
    {
      "cell_type": "code",
      "metadata": {
        "id": "cDquqsFOpuUl"
      },
      "source": [
        "classifier = LogisticRegression(max_iter = 1000)\n",
        "classifier.fit(Xtrain,Ytrain)"
      ],
      "execution_count": null,
      "outputs": []
    },
    {
      "cell_type": "markdown",
      "metadata": {
        "id": "ZGx2iFUlqC4w"
      },
      "source": [
        "<p>Τέλος, θα λάβετε τις προβλέψεις του μοντέλου που εκπαιδεύσατε πάνω στο test set και θα υπολογίσετε τα συνολικά λάθη.</p>"
      ]
    },
    {
      "cell_type": "code",
      "metadata": {
        "id": "opOmr-vCqOKL"
      },
      "source": [
        "# Get the predictions on the test set\n",
        "prediction = classifier.predict(Xtest)\n",
        "\n",
        "# Calculate the total number of errors on the test set\n",
        "errors = 0\n",
        "for index in range(0,len(prediction) - 1):\n",
        "\tif prediction[index] != Ytest[index]:\n",
        "\t\terrors += 1\n",
        "\n",
        "print(\"Total errors on the test dataset\")\n",
        "print(errors)"
      ],
      "execution_count": null,
      "outputs": []
    },
    {
      "cell_type": "markdown",
      "metadata": {
        "id": "xRVRieelqVsA"
      },
      "source": [
        "<h4><b><i>Ερώτηση</i></b></h4>\n",
        "<p>Να εκτελέσετε παραπάνω τμήματα κώδικα με είσοδο τα αρχεία (a) <i><a href=\"https://raw.githubusercontent.com/nkostopoulos/StochasticsLabPublic/master/lab2/demo3a.csv\">demo3a.csv</a></i> και (b) <i>foo.csv</i>. Τι παρατηρείτε για την ακρίβεια του μοντέλου στις δύο περιπτώσεις; Δοκιμάστε και για την περίπτωση που κρατάμε (α) 1 και (β) 2 <i>κύριες συνιστώσες</i>. Τι παρατηρείτε;</p>"
      ]
    },
    {
      "cell_type": "markdown",
      "metadata": {
        "id": "gqPhHDExffku"
      },
      "source": [
        "<h3><b><i>Συμπληρωματικές Ερωτήσεις</i></b></h3>\n",
        "<ul>\n",
        "<li>Ποια είναι η χρησιμότητα του αλγορίθμου <b><i>PCA</i></b> ως προς τη δυνατότητα <i>οπτικοποίησης</i> (<i>visualization</i>) των δεδομένων του dataset;</li>\n",
        "<li>Ποια είναι η χρησιμότητα του αλγορίθμου <b><i>PCA</i></b> ως προς την ταχύτητα εκπαίδευσης του μοντέλου logistic regression; Να βασίσετε την απάντησή σας στα δύο παρακάτω τμήματα κώδικα.</li>\n",
        "</ul>"
      ]
    }
  ]
}