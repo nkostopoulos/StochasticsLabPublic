{
  "nbformat": 4,
  "nbformat_minor": 0,
  "metadata": {
    "colab": {
      "name": "Stochastic_Processes_&_Optimization_in_Machine_Learning_(Lab_2_PCA).ipynb",
      "provenance": []
    },
    "kernelspec": {
      "name": "python3",
      "display_name": "Python 3"
    }
  },
  "cells": [
    {
      "cell_type": "markdown",
      "metadata": {
        "id": "s_xjbOW-TkC3"
      },
      "source": [
        "<h1><b><i>Principal Component Analysis</i> (<i>PCA</i>) </b></h1>\n",
        "\n",
        "<p>Στην άσκηση αυτή θα μελετήσετε τον αλγόριθμο <b><i>ανάλυσης σε κύριες συνιστώσες</i></b> (<b><i>Principal Component Analysis</i></b>, <b><i>PCA</i></b>), υλοποιημένο σύμφωνα με τη <b><i>μέθοδο συνδιακύμανσης</i></b> (<b><i>covariance method</i></b>). Για να κατανοήσετε τη χρησιμότητα της μεθόδου θα εκπαιδεύσετε και θα αξιολογήσετε την ακρίβεια ενός μοντέλου <b><i>logistic regression</i></b> για ένα dataset πριν και μετά την εφαρμογή του αλγορίθμου <b><i>PCA</i></b>. Περισσότερες πληροφορίες για τη μέθοδο αυτή μπορείτε να αναζητήσετε <a href=\"https://ourarchive.otago.ac.nz/handle/10523/7534\">εδώ</a>.</p>\n",
        "\n",
        "<p>Η άσκηση περιλαμβάνει <b><i>δύο</i></b> προγράμματα <i>Python</i>: (a) το πρώτο δέχεται ένα dataset σε μορφή .<i>csv</i>, εφαρμόζει τον αλγόριθμο <b><i>PCA</i></b> και δημιουργεί το αρχείο <b><i>foo.csv</i></b> με το μετασχηματισμένο dataset, όπως προκύπτει από τις κύριες συνιστώσες που επέλεξε ο χρήστης να διατηρήσει, (b) το δεύτερο δέχεται ένα αρχείο σε μορφή .<i>csv</i>, διαχωρίζει το dataset σε <i>training</i> και <i>test set</i>, εκπαιδεύει ένα μοντέλο <b><i>logistic regression</i></b>, χρησιμοποιώντας το <i>training set</i> και υπολογίζει τον αριθμό των σφαλμάτων του μοντέλου πάνω στο <i>test set</i>.</p>\n",
        "\n",
        "<p>Το dataset που θα χρησιμοποιήσετε παρέχεται σε δύο μορφές: (a) <b><i><a href=\"https://raw.githubusercontent.com/nkostopoulos/StochasticsLabPublic/master/lab2/demo3a.csv\">demo3a.csv</a></i></b> και (b) <b><i><a href=\"https://github.com/nkostopoulos/StochasticsLabPublic/blob/master/lab2/demo3b.csv\">demo3b.csv</a></i></b>, το οποίο δεν περιλαμβάνει την πρώτη στήλη του <b><i><a href=\"https://raw.githubusercontent.com/nkostopoulos/StochasticsLabPublic/master/lab2/demo3a.csv\">demo3a.csv</a></i></b>, δηλαδή τα <i>labels</i> που αντιστοιχούν σε κάθε είσοδο. Τα datasets αυτά αποτελούν απλοποιημένη μορφή του dataset που μπορεί να βρεθεί <a href=\"https://archive.ics.uci.edu/ml/datasets/wine\">εδώ</a>.</p>\n",
        "\n",
        "<h3><b><i>Ανάλυση σε Κύριες Συνιστώσες</i></b></h3>\n",
        "<p>Αρχικά, θα φορτώσετε τις βιβλιοθήκες που απαιτούνται για το πρόγραμμα που θα αναλύσει το dataset <b><i><a href=\"https://github.com/nkostopoulos/StochasticsLabPublic/blob/master/lab2/demo3b.csv\">demo3b.csv</a></i></b> στις κύριες συνιστώσες του.</p>\n",
        "\n",
        "\n"
      ]
    },
    {
      "cell_type": "code",
      "metadata": {
        "id": "KDcaQZ2ofeum",
        "outputId": "becc8350-a05e-4b48-8e78-6d366c1020a2",
        "colab": {
          "base_uri": "https://localhost:8080/"
        }
      },
      "source": [
        "!pip install numpy\n",
        "#https://machinelearningmastery.com/calculate-principal-component-analysis-scratch-python/\n",
        "from numpy import genfromtxt\n",
        "from numpy import mean\n",
        "from numpy import cov\n",
        "from numpy.linalg import eig\n",
        "import numpy as np"
      ],
      "execution_count": 1,
      "outputs": [
        {
          "output_type": "stream",
          "name": "stdout",
          "text": [
            "Requirement already satisfied: numpy in /usr/local/lib/python3.7/dist-packages (1.21.5)\n"
          ]
        }
      ]
    },
    {
      "cell_type": "markdown",
      "metadata": {
        "id": "pMilxe9Uf-WT"
      },
      "source": [
        "<p>Στη συνέχεια, θα φορτώσετε το dataset <b><i></i></b></p>"
      ]
    },
    {
      "cell_type": "code",
      "metadata": {
        "id": "k92Gv9dwftZp"
      },
      "source": [
        "data = genfromtxt('https://raw.githubusercontent.com/nkostopoulos/StochasticsLabPublic/master/lab2/demo3b.csv', delimiter=',')"
      ],
      "execution_count": 2,
      "outputs": []
    },
    {
      "cell_type": "markdown",
      "metadata": {
        "id": "ydl-AyxahG2b"
      },
      "source": [
        "<p>Έπειτα, θα υπολογίσετε το μέσο όρο κάθε στήλης (feature) του dataset και θα κανονικοποιήσετε κάθε feature με αυτόν</p>"
      ]
    },
    {
      "cell_type": "code",
      "metadata": {
        "id": "QU4TQXw2g4xF"
      },
      "source": [
        "M = mean(data.T, axis=1)\n",
        "data_normal = data - M"
      ],
      "execution_count": 3,
      "outputs": []
    },
    {
      "cell_type": "markdown",
      "metadata": {
        "id": "BYWD8ozQh-h8"
      },
      "source": [
        "<p>Στη συνέχεια, θα υπολογίσετε το <b><i>πίνακα συνδιακύμανσης</i></b> (<b><i>covariance matrix</i></b>) για το dataset</p>"
      ]
    },
    {
      "cell_type": "code",
      "metadata": {
        "id": "N3B6Pw6diHxe",
        "outputId": "6d1dd2f9-51c8-4d04-9817-49fc519805fa",
        "colab": {
          "base_uri": "https://localhost:8080/"
        }
      },
      "source": [
        "covariance = cov(data_normal.T)\n",
        "print(\"The covariance matrix of the normalized data is the following: \")\n",
        "print(covariance)"
      ],
      "execution_count": 4,
      "outputs": [
        {
          "output_type": "stream",
          "name": "stdout",
          "text": [
            "The covariance matrix of the normalized data is the following: \n",
            "[[ 7.89911157e-01  1.64350328e-02  5.03965534e-02 -1.39557561e+00\n",
            "   4.51870543e+00  2.35123047e-01  3.56524806e-01 -2.92133512e-02\n",
            "   9.15320632e-02  1.07205560e+00  3.92238044e-03  1.22678110e-01\n",
            "   2.36909466e+02]\n",
            " [ 1.64350328e-02  7.74344335e-01  3.18039952e-02  4.24165474e-01\n",
            "  -2.21434109e-01  1.44160704e-02  3.75581395e-02  5.34385808e-03\n",
            "   6.47891175e-02 -1.54797734e-01 -6.06599761e-02  6.96007454e-02\n",
            "  -3.33629219e+01]\n",
            " [ 5.03965534e-02  3.18039952e-02  8.83052117e-02  3.73006798e-01\n",
            "   1.40136434e+00  4.12452594e-02  8.26573643e-02  5.81539654e-03\n",
            "   1.24709839e-02  1.22397007e-01  2.06346094e-03  3.02871079e-02\n",
            "   3.18556160e+01]\n",
            " [-1.39557561e+00  4.24165474e-01  3.73006798e-01  1.15631181e+01\n",
            "  -6.46193798e+00 -4.24464222e-01 -4.52046512e-01  1.24282469e-01\n",
            "  -1.77910614e-01 -2.39565069e+00 -2.05387955e-02 -1.02069171e-03\n",
            "  -5.11872284e+02]\n",
            " [ 4.51870543e+00 -2.21434109e-01  1.40136434e+00 -6.46193798e+00\n",
            "   2.36586822e+02  2.55096899e+00  2.89720930e+00 -3.57263566e-01\n",
            "   2.30737209e+00  8.63970543e+00  1.85996899e-01  9.56255814e-01\n",
            "   2.31515659e+03]\n",
            " [ 2.35123047e-01  1.44160704e-02  4.12452594e-02 -4.24464222e-01\n",
            "   2.55096899e+00  2.97453936e-01  3.40611628e-01 -2.64587657e-02\n",
            "   1.30694305e-01  5.23527370e-01 -7.63816339e-04  1.28195856e-01\n",
            "   9.73171139e+01]\n",
            " [ 3.56524806e-01  3.75581395e-02  8.26573643e-02 -4.52046512e-01\n",
            "   2.89720930e+00  3.40611628e-01  5.44297674e-01 -2.88767442e-02\n",
            "   2.16111628e-01  8.48084496e-01 -8.24186047e-04  1.88436434e-01\n",
            "   1.41942171e+02]\n",
            " [-2.92133512e-02  5.34385808e-03  5.81539654e-03  1.24282469e-01\n",
            "  -3.57263566e-01 -2.64587657e-02 -2.88767442e-02  1.18999463e-02\n",
            "  -1.98501670e-02 -4.97212642e-02  9.44753727e-04 -2.42901670e-02\n",
            "  -1.26918819e+01]\n",
            " [ 9.15320632e-02  6.47891175e-02  1.24709839e-02 -1.77910614e-01\n",
            "   2.30737209e+00  1.30694305e-01  2.16111628e-01 -1.98501670e-02\n",
            "   2.91137680e-01  2.39266834e-01 -9.77493143e-04  8.78196959e-02\n",
            "   5.22928014e+01]\n",
            " [ 1.07205560e+00 -1.54797734e-01  1.22397007e-01 -2.39565069e+00\n",
            "   8.63970543e+00  5.23527370e-01  8.48084496e-01 -4.97212642e-02\n",
            "   2.39266834e-01  2.64316778e+00  2.68330829e-03  1.60809159e-01\n",
            "   4.44340177e+02]\n",
            " [ 3.92238044e-03 -6.06599761e-02  2.06346094e-03 -2.05387955e-02\n",
            "   1.85996899e-01 -7.63816339e-04 -8.24186047e-04  9.44753727e-04\n",
            "  -9.77493143e-04  2.68330829e-03  2.84562519e-02 -8.13836136e-03\n",
            "   6.93777746e+00]\n",
            " [ 1.22678110e-01  6.96007454e-02  3.02871079e-02 -1.02069171e-03\n",
            "   9.56255814e-01  1.28195856e-01  1.88436434e-01 -2.42901670e-02\n",
            "   8.78196959e-02  1.60809159e-01 -8.13836136e-03  2.25782952e-01\n",
            "   3.83903673e+01]\n",
            " [ 2.36909466e+02 -3.33629219e+01  3.18556160e+01 -5.11872284e+02\n",
            "   2.31515659e+03  9.73171139e+01  1.41942171e+02 -1.26918819e+01\n",
            "   5.22928014e+01  4.44340177e+02  6.93777746e+00  3.83903673e+01\n",
            "   1.24265433e+05]]\n"
          ]
        }
      ]
    },
    {
      "cell_type": "markdown",
      "metadata": {
        "id": "rFxfxGxbiPsm"
      },
      "source": [
        "<p>Το επόμενο βήμα είναι να υπολογίσετε τις <b><i>ιδιοτιμές</i></b> (<b><i>eigenvalues</i></b>) και τα <b><i>ιδιοδιανύσματα</i></b> (<b><i>eigenvectors</i></b>) του dataset.</p>"
      ]
    },
    {
      "cell_type": "code",
      "metadata": {
        "id": "nyqu1myLieP3",
        "outputId": "f94f094b-666e-4f48-b424-0ef434307cc6",
        "colab": {
          "base_uri": "https://localhost:8080/"
        }
      },
      "source": [
        "values, vectors = eig(covariance)\n",
        "print(\"The eigenvalues of the normalized data are the following: \")\n",
        "print(values)"
      ],
      "execution_count": 5,
      "outputs": [
        {
          "output_type": "stream",
          "name": "stdout",
          "text": [
            "The eigenvalues of the normalized data are the following: \n",
            "[1.24313073e+05 1.93456026e+02 9.50168321e+00 1.32500169e+00\n",
            " 8.10595669e-01 4.51081713e-01 2.69157831e-01 1.60993380e-01\n",
            " 1.11100343e-01 6.13399000e-03 2.19782528e-02 3.20312852e-02\n",
            " 5.87421686e-02]\n"
          ]
        }
      ]
    },
    {
      "cell_type": "markdown",
      "metadata": {
        "id": "51_NKEP2imoW"
      },
      "source": [
        "<p>Στη συνέχεια, θα επιλέξετε τις πιο σημαντικές <b><i>ιδιοτιμές</i></b> και θα προσαρμόσετε αντίστοιχα τα <b><i>ιδιοδιανύσματα</i></b> του dataset.</p>"
      ]
    },
    {
      "cell_type": "code",
      "metadata": {
        "id": "Dee3ENf1i4Lx",
        "outputId": "7dc7eff2-c93c-44f0-c772-f8db18ea1bad",
        "colab": {
          "base_uri": "https://localhost:8080/"
        }
      },
      "source": [
        "new_values = values[0:3]\n",
        "print(\"The most important eigenvalues are the following: \")\n",
        "print(new_values)\n",
        "new_vectors = vectors[0:3]\n",
        "print(\"The most important eigenvectors are the following: \")\n",
        "print(new_vectors)"
      ],
      "execution_count": 6,
      "outputs": [
        {
          "output_type": "stream",
          "name": "stdout",
          "text": [
            "The most important eigenvalues are the following: \n",
            "[1.24313073e+05 1.93456026e+02 9.50168321e+00]\n",
            "The most important eigenvectors are the following: \n",
            "[[-1.90615566e-03 -4.75319302e-04 -4.70065618e-02  2.25255930e-01\n",
            "   9.82089183e-02 -2.20758056e-01 -8.52483156e-01 -3.65140031e-01\n",
            "  -1.65925760e-01 -5.62139324e-03 -2.07811823e-02  2.48378617e-02\n",
            "  -8.18675258e-04]\n",
            " [ 2.68379014e-04 -2.11118304e-03  3.21935310e-02  1.25115825e-01\n",
            "   9.16405147e-01 -3.07909300e-01  1.86306127e-01  7.26209733e-02\n",
            "  -1.81047372e-02 -1.16925805e-02  8.44468784e-02 -2.41209813e-02\n",
            "   2.31770029e-02]\n",
            " [-2.56407459e-04 -4.21644285e-03  5.19948847e-02  4.67286333e-02\n",
            "   2.01302236e-02 -3.45064791e-03 -1.57617050e-02  1.52544206e-01\n",
            "  -7.18891029e-02 -1.38330530e-01 -6.68720003e-02  6.75337422e-01\n",
            "  -6.97354965e-01]]\n"
          ]
        }
      ]
    },
    {
      "cell_type": "markdown",
      "metadata": {
        "id": "6IVdHr-Ti-O5"
      },
      "source": [
        "<p>Τώρα, θα εφαρμόσετε τα νέα <b><i>ιδιοδιανύσματα</i></b> στο παλιό dataset για να πάρετε το νέο, μειωμένο σε μέγεθος dataset.</p>"
      ]
    },
    {
      "cell_type": "code",
      "metadata": {
        "id": "HtJouKmSjPbD"
      },
      "source": [
        "new_data = new_vectors.dot(data_normal.T)"
      ],
      "execution_count": 7,
      "outputs": []
    },
    {
      "cell_type": "markdown",
      "metadata": {
        "id": "o5B93KQ3jTpf"
      },
      "source": [
        "<p>Να αποθηκεύσετε το νέο dataset σε ένα αρχείο <i>csv</i>.</p>"
      ]
    },
    {
      "cell_type": "code",
      "metadata": {
        "id": "W1uY6kFWjflf"
      },
      "source": [
        "np.savetxt(\"foo.csv\", new_data.T, delimiter=\",\")"
      ],
      "execution_count": 8,
      "outputs": []
    },
    {
      "cell_type": "markdown",
      "metadata": {
        "id": "8u085fpWjnPD"
      },
      "source": [
        "<h4><b><i>Ερωτήσεις</i></b></h4>\n",
        "<ul>\n",
        "<li>Να μελετήσετε το παραπάνω πρόγραμμα και να περιγράψετε, σύντομα, τα βήματα που ακολουθεί ο αλγόριθμος <b><i>PCA</i></b>, υλοποιημένος με τη μέθοδο <b><i>covariance</i></b>. Να συμπεριλάβετε και τις μαθηματικές πράξεις.</li>\n",
        "<li>Να εφαρμόσετε τον αλγόριθμο <b><i>PCA</i></b> πάνω στα δεδομένα του αρχείου <i><a href=\"https://github.com/nkostopoulos/StochasticsLabPublic/blob/master/lab2/demo3b.csv\">demo3b.csv</a></i>. Στη συνέχεια, να καταγράψετε τον <i>πίνακα συνδιακύμανσης</i> του dataset και τις ιδιοτιμές του πίνακα αυτού. Τι υποδηλώνουν οι θετικές και τι οι αρνητικές τιμές του <i>πίνακα συνδιακύμανσης</i>; Να διατάξετε τις <i>ιδιοτιμές</i> σε φθίνουσα σειρά. Τι παρατηρείτε για τις τρεις πρώτες σε σχέση με τις υπόλοιπες; Πόσες <i>κύριες συνιστώσες</i> επιλέγει να διατηρήσει ο αλγόριθμος;</li>\n",
        "</ul>"
      ]
    },
    {
      "cell_type": "markdown",
      "metadata": {
        "id": "DBRxVL9BmqGw"
      },
      "source": [
        "<h3><b><i>Logistic Regression</i></b></h3>\n",
        "\n",
        "<p>Αρχικά, θα φορτώσετε τις απαραίτητες βιβλιοθήκες.</p>"
      ]
    },
    {
      "cell_type": "code",
      "metadata": {
        "id": "MiGjiOEQnpwn",
        "outputId": "873770f3-c5cf-404a-be17-4345deb0a90f",
        "colab": {
          "base_uri": "https://localhost:8080/"
        }
      },
      "source": [
        "!pip install pandas\n",
        "!pip install numpy\n",
        "!pip install matplotlib\n",
        "!pip install sklearn\n",
        "import pandas as pd\n",
        "import numpy as np\n",
        "import matplotlib.pyplot as plt\n",
        "from sklearn.model_selection import train_test_split\n",
        "from sklearn.decomposition import PCA\n",
        "from sklearn.preprocessing import StandardScaler\n",
        "from sklearn.linear_model import LogisticRegression"
      ],
      "execution_count": 9,
      "outputs": [
        {
          "output_type": "stream",
          "name": "stdout",
          "text": [
            "Requirement already satisfied: pandas in /usr/local/lib/python3.7/dist-packages (1.3.5)\n",
            "Requirement already satisfied: numpy>=1.17.3 in /usr/local/lib/python3.7/dist-packages (from pandas) (1.21.5)\n",
            "Requirement already satisfied: pytz>=2017.3 in /usr/local/lib/python3.7/dist-packages (from pandas) (2018.9)\n",
            "Requirement already satisfied: python-dateutil>=2.7.3 in /usr/local/lib/python3.7/dist-packages (from pandas) (2.8.2)\n",
            "Requirement already satisfied: six>=1.5 in /usr/local/lib/python3.7/dist-packages (from python-dateutil>=2.7.3->pandas) (1.15.0)\n",
            "Requirement already satisfied: numpy in /usr/local/lib/python3.7/dist-packages (1.21.5)\n",
            "Requirement already satisfied: matplotlib in /usr/local/lib/python3.7/dist-packages (3.2.2)\n",
            "Requirement already satisfied: numpy>=1.11 in /usr/local/lib/python3.7/dist-packages (from matplotlib) (1.21.5)\n",
            "Requirement already satisfied: kiwisolver>=1.0.1 in /usr/local/lib/python3.7/dist-packages (from matplotlib) (1.3.2)\n",
            "Requirement already satisfied: python-dateutil>=2.1 in /usr/local/lib/python3.7/dist-packages (from matplotlib) (2.8.2)\n",
            "Requirement already satisfied: cycler>=0.10 in /usr/local/lib/python3.7/dist-packages (from matplotlib) (0.11.0)\n",
            "Requirement already satisfied: pyparsing!=2.0.4,!=2.1.2,!=2.1.6,>=2.0.1 in /usr/local/lib/python3.7/dist-packages (from matplotlib) (3.0.7)\n",
            "Requirement already satisfied: six>=1.5 in /usr/local/lib/python3.7/dist-packages (from python-dateutil>=2.1->matplotlib) (1.15.0)\n",
            "Requirement already satisfied: sklearn in /usr/local/lib/python3.7/dist-packages (0.0)\n",
            "Requirement already satisfied: scikit-learn in /usr/local/lib/python3.7/dist-packages (from sklearn) (1.0.2)\n",
            "Requirement already satisfied: numpy>=1.14.6 in /usr/local/lib/python3.7/dist-packages (from scikit-learn->sklearn) (1.21.5)\n",
            "Requirement already satisfied: joblib>=0.11 in /usr/local/lib/python3.7/dist-packages (from scikit-learn->sklearn) (1.1.0)\n",
            "Requirement already satisfied: scipy>=1.1.0 in /usr/local/lib/python3.7/dist-packages (from scikit-learn->sklearn) (1.4.1)\n",
            "Requirement already satisfied: threadpoolctl>=2.0.0 in /usr/local/lib/python3.7/dist-packages (from scikit-learn->sklearn) (3.1.0)\n"
          ]
        }
      ]
    },
    {
      "cell_type": "markdown",
      "metadata": {
        "id": "JnNo_v4Jn3gn"
      },
      "source": [
        "Στη συνέχεια, θα φορτώσετε τα datasets που θα χρησιμοποιηθούν για την εκπαίδευση του μοντέλου <b><i>logistic regression</i></b>. Στην πρώτη περίπτωση, θα εκπαιδεύσετε το μοντέλο, χρησιμοποιώντας το αρχείο <i><a href=\"https://raw.githubusercontent.com/nkostopoulos/StochasticsLabPublic/master/lab2/demo3a.csv\">demo3a.csv</a></i>. Στη δεύτερη περίπτωση, θα φορτώσετε το αρχείο <i>foo.csv</i> που πήρατε ως έξοδο από το προηγούμενο τμήμα κώδικα της άσκησης (<i>Ανάλυση σε Κύριες Συνιστώσες</i>), προσθέτοντας στην πρώτη στήλη του αρχείου τα labels που υπάρχουν στην πρώτη στήλη του αρχείου <a href=\"https://raw.githubusercontent.com/nkostopoulos/StochasticsLabPublic/master/lab2/demo3a.csv\"><i>demo3a.csv</i></a>."
      ]
    },
    {
      "cell_type": "code",
      "metadata": {
        "id": "7cJDDmjxpSTT"
      },
      "source": [
        "df = pd.read_csv(\"https://raw.githubusercontent.com/nkostopoulos/StochasticsLabPublic/master/lab2/demo3a.csv\")\n",
        "#df = pd.read_csv(\"foo.csv\")"
      ],
      "execution_count": 11,
      "outputs": []
    },
    {
      "cell_type": "markdown",
      "metadata": {
        "id": "nyQn9Hjapdjj"
      },
      "source": [
        "<p>Έπειτα, θα χωρίσετε το dataset σε <i>training</i> και <i>test set</i>.</p>"
      ]
    },
    {
      "cell_type": "code",
      "metadata": {
        "id": "NuWbSbVwpWUe"
      },
      "source": [
        "# Separate the input features from the target variable\n",
        "x = df.iloc[:,1:13].values\n",
        "y = df.iloc[:,0].values\n",
        "# Split the dataset into train and test set\n",
        "Xtrain,Xtest,Ytrain,Ytest = train_test_split(x,y, test_size = 0.2)"
      ],
      "execution_count": 12,
      "outputs": []
    },
    {
      "cell_type": "markdown",
      "metadata": {
        "id": "HFvPctcepyai"
      },
      "source": [
        "<p>Έπειτα, θα εκπαιδεύσετε το μοντέλο <b><i>Logistic Regression</i></b></p>"
      ]
    },
    {
      "cell_type": "code",
      "metadata": {
        "id": "cDquqsFOpuUl",
        "outputId": "74123753-408e-4a25-a67b-af204ddc24f7",
        "colab": {
          "base_uri": "https://localhost:8080/"
        }
      },
      "source": [
        "classifier = LogisticRegression(max_iter = 1000)\n",
        "classifier.fit(Xtrain,Ytrain)"
      ],
      "execution_count": 13,
      "outputs": [
        {
          "output_type": "execute_result",
          "data": {
            "text/plain": [
              "LogisticRegression(max_iter=1000)"
            ]
          },
          "metadata": {},
          "execution_count": 13
        }
      ]
    },
    {
      "cell_type": "markdown",
      "metadata": {
        "id": "ZGx2iFUlqC4w"
      },
      "source": [
        "<p>Τέλος, θα λάβετε τις προβλέψεις του μοντέλου που εκπαιδεύσατε πάνω στο test set και θα υπολογίσετε τα συνολικά λάθη.</p>"
      ]
    },
    {
      "cell_type": "code",
      "metadata": {
        "id": "opOmr-vCqOKL",
        "outputId": "99217e4f-1332-44af-d2dd-cdad4095e87c",
        "colab": {
          "base_uri": "https://localhost:8080/"
        }
      },
      "source": [
        "# Get the predictions on the test set\n",
        "prediction = classifier.predict(Xtest)\n",
        "\n",
        "# Calculate the total number of errors on the test set\n",
        "errors = 0\n",
        "for index in range(0,len(prediction) - 1):\n",
        "\tif prediction[index] != Ytest[index]:\n",
        "\t\terrors += 1\n",
        "\n",
        "print(\"Total errors on the test dataset\")\n",
        "print(errors)"
      ],
      "execution_count": 14,
      "outputs": [
        {
          "output_type": "stream",
          "name": "stdout",
          "text": [
            "Total errors on the test dataset\n",
            "1\n"
          ]
        }
      ]
    },
    {
      "cell_type": "markdown",
      "metadata": {
        "id": "xRVRieelqVsA"
      },
      "source": [
        "<h4><b><i>Ερώτηση</i></b></h4>\n",
        "<p>Να εκτελέσετε παραπάνω τμήματα κώδικα με είσοδο τα αρχεία (a) <i><a href=\"https://raw.githubusercontent.com/nkostopoulos/StochasticsLabPublic/master/lab2/demo3a.csv\">demo3a.csv</a></i> και (b) <i>foo.csv</i>. Τι παρατηρείτε για την ακρίβεια του μοντέλου στις δύο περιπτώσεις; Δοκιμάστε και για την περίπτωση που κρατάμε (α) 1 και (β) 2 <i>κύριες συνιστώσες</i>. Τι παρατηρείτε;</p>"
      ]
    },
    {
      "cell_type": "markdown",
      "metadata": {
        "id": "gqPhHDExffku"
      },
      "source": [
        "<h3><b><i>Συμπληρωματικές Ερωτήσεις</i></b></h3>\n",
        "<ul>\n",
        "<li>Ποια είναι η χρησιμότητα του αλγορίθμου <b><i>PCA</i></b> ως προς τη δυνατότητα <i>οπτικοποίησης</i> (<i>visualization</i>) των δεδομένων του dataset;</li>\n",
        "<li>Ποια είναι η χρησιμότητα του αλγορίθμου <b><i>PCA</i></b> ως προς την ταχύτητα εκπαίδευσης του μοντέλου logistic regression; Να βασίσετε την απάντησή σας στα δύο παρακάτω τμήματα κώδικα.</li>\n",
        "</ul>"
      ]
    }
  ]
}