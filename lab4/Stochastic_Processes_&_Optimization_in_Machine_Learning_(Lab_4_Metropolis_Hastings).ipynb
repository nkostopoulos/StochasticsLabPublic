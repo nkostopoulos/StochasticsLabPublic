{
  "nbformat": 4,
  "nbformat_minor": 0,
  "metadata": {
    "kernelspec": {
      "display_name": "Python 3",
      "language": "python",
      "name": "python3"
    },
    "language_info": {
      "codemirror_mode": {
        "name": "ipython",
        "version": 3
      },
      "file_extension": ".py",
      "mimetype": "text/x-python",
      "name": "python",
      "nbconvert_exporter": "python",
      "pygments_lexer": "ipython3",
      "version": "3.7.6"
    },
    "colab": {
      "name": "Stochastic_Processes_&_Optimization_in_Machine_Learning_(Lab_4_Metropolis_Hastings).ipynb",
      "provenance": []
    }
  },
  "cells": [
    {
      "cell_type": "markdown",
      "metadata": {
        "id": "fgR5Xn5gWfzW"
      },
      "source": [
        "<h1><b>Ο Αλγόριθμος <i>Metropolis-Hastings</i></b></h1>"
      ]
    },
    {
      "cell_type": "markdown",
      "metadata": {
        "id": "dJG2P4dG28aQ"
      },
      "source": [
        "<b>Σημείωση</b>: Η άσκηση αυτή έχει βασιστεί στο άρθρο που μπορεί να βρεθεί <a href=\"https://www.tweag.io/blog/2019-10-25-mcmc-intro1/\">εδώ</a>. Στο συγκεκριμένο άρθρο μπορεί να βρεθεί μια πιο αναλυτική εισαγωγή στις μεθόδους <b><i>Monte Carlo Markov Chain</i> (<i>MCMC</i>)</b> και στον αλγόριθμο <b><i>Metropolis-Hastings</i></b>, καθώς και συνοδευτικά άρθρα για πιο προχωρημένα ζητήματα.\n",
        "\n",
        "\\\\"
      ]
    },
    {
      "cell_type": "markdown",
      "metadata": {
        "id": "wu6jgshaWfzc"
      },
      "source": [
        "Στην άσκηση αυτή θα μελετήσετε τον αλγόριθμο <b><i>Metropolis-Hastings</i></b>. Συγκεκριμένα, θα χρησιμοποιήσετε τον αλγόριθμο για να λάβετε δειγματικά στοιχεία (sampling points) από μία <b><i>τυπική κανονική κατανομή</i> (<i>standard normal distribution</i>)</b>, δηλαδή μία κανονική κατανομή συνεχούς τυχαίας μεταβλητής με μέση τιμή $μ=0$ και τυπική απόκλιση $σ=1$. \n",
        "\n",
        "Ως <b><i>proposal conditional density</i></b> θα λάβετε μία ομοιόμορφη κατανομή στο διάστημα $(-\\frac{Δ}{2}, \\frac{Δ}{2})$. Αφού η <b><i>proposal conditional density</i></b> που θα χρησιμοποιήσετε είναι μία συμμετρική κατανομή, ο αλγόριθμος <b><i>Metropolis-Hastings</i></b> θα λάβει την απλοποιημένη μορφή του, δηλαδή η πιθανότητα να πραγματοποιήσετε μία μετάβαση από την κατάσταση $x_{old}$ στην κατάσταση $x_{new}$ για μια κατανομή $π$ θα δίνεται από τον παρακάτω τύπο:\n",
        "\n",
        "$$\n",
        "p_{accept}(x_{new} | x_{old}) = min\\left[1, \\frac{π(x_{new})}{π(x_{old})}\\right]\n",
        "$$"
      ]
    },
    {
      "cell_type": "markdown",
      "metadata": {
        "id": "QpQ31sK7JnBf"
      },
      "source": [
        "Αναλυτικές οδηγίες σχετικά με το πώς προκύπτει ο παραπάνω τύπος περιλαμβάνονται στις διαφάνειες του μαθήματος, αλλά και στο άρθρο πάνω στο οποίο βασίστηκε η συγκεκριμένη άσκηση."
      ]
    },
    {
      "cell_type": "markdown",
      "metadata": {
        "id": "EwONS746Wfzm"
      },
      "source": [
        "<h3><b>Υλοποίηση του Αλγορίθμου <i>Metropolis-Hastings</i> σε Python</b></h3>"
      ]
    },
    {
      "cell_type": "markdown",
      "metadata": {
        "id": "9KKExkzlWfzn"
      },
      "source": [
        "Αρχικά, θα ορίσουμε τη μέθοδο <b><i>log_prob</i></b>, η οποία θα χρησιμοποιηθεί για τον υπολογισμό τιμών από την <b><i>τυπική κανονική κατανομή</i></b>. Να σημειωθεί ότι λαμβάνεται ο λογάριθμος της κατανομής αυτής. Ο λογάριθμος αυτός μπορεί να υπολογιστεί εύκολα από τον τύπο της <b><i>τυπικής κανονικής κατανομής</i></b>, που είναι διαθέσιμος από <a href=\"https://en.wikipedia.org/wiki/Normal_distribution#Standard_normal_distribution\">εδώ</a>. Λόγοι για τους οποίους προτιμάται αυτή η μορφή μπορούν να αναζητηθούν <a href=\"https://stats.stackexchange.com/questions/137710/metropolis-hastings-using-log-of-the-density\">εδώ</a>. Τέλος, οι σταθερές μπορούν να αγνοηθούν από τον τύπο με ασφάλεια λόγω της μορφή του αλγορίθμου <b><i>Metropolis-Hastings</i></b>."
      ]
    },
    {
      "cell_type": "code",
      "metadata": {
        "id": "Kqenb5leWfzn"
      },
      "source": [
        "def log_prob(x):\n",
        "     return -0.5 * np.float64(x ** 2)"
      ],
      "execution_count": null,
      "outputs": []
    },
    {
      "cell_type": "markdown",
      "metadata": {
        "id": "_KPjDlPwWfzn"
      },
      "source": [
        "Στη συνέχεια, ορίζουμε τη μέθοδο <b><i>proposal</i></b>, η οποία θα χρησιμοποιηθεί για τον υπολογισμό τιμών από την ομοιόμορφη κατανομή, η οποία αποτελεί την <b><i>proposal conditional density</i></b>."
      ]
    },
    {
      "cell_type": "code",
      "metadata": {
        "id": "Dp9BlafdWfzo"
      },
      "source": [
        "def proposal(x, stepsize):\n",
        "    return np.random.uniform(low=x - 0.5 * stepsize, \n",
        "                             high=x + 0.5 * stepsize, \n",
        "                             size=x.shape)"
      ],
      "execution_count": null,
      "outputs": []
    },
    {
      "cell_type": "markdown",
      "metadata": {
        "id": "Z40PXGMAWfzo"
      },
      "source": [
        "Η πιθανότητα αποδοχής μιας νέας κατάστασης $x_{new}$ δεδομένης της τρέχουσας κατάστασης $x_{old}$ υπολογίζεται από τη παρακάτω μέθοδο. Να σημειωθεί πως στη συγκεκριμένη μέθοδο, ο τύπος $p_{accept}$ που δόθηκε παραπάνω έχει τροποποιηθεί κατάλληλα, ώστε να μην εμφανίζονται αρνητικές τιμές. Οι δύο μορφές του τύπου είναι ισοδύναμες, καθώς σημασία έχει η σύγκριση δύο τιμών και όχι οι ακριβείς τιμές, όπως φαίνεται από τον παραπάνω τύπο."
      ]
    },
    {
      "cell_type": "code",
      "metadata": {
        "id": "EAqqwcrvWfzo"
      },
      "source": [
        "def p_acc_MH(x_new, x_old, log_prob):\n",
        "    return min(1, np.exp(log_prob(x_new) - log_prob(x_old)))"
      ],
      "execution_count": null,
      "outputs": []
    },
    {
      "cell_type": "markdown",
      "metadata": {
        "id": "HbcWIf8OWfzo"
      },
      "source": [
        "Στη συνέχεια, υλοποιείται η μέθοδος με την οποία θα αποφασίζει ο αλγόριθμος <b><i>Metropolis-Hastings</i></b> εάν θα γίνει δεκτό ένα προτεινόμενο βήμα."
      ]
    },
    {
      "cell_type": "code",
      "metadata": {
        "id": "PDQZIaGaWfzp"
      },
      "source": [
        "import numpy as np\n",
        "def sample_MH(x_old, log_prob, stepsize):\n",
        "    x_new = proposal(x_old, stepsize)\n",
        "    accept = np.random.random() < p_acc_MH(x_new, x_old, log_prob)\n",
        "    if accept:\n",
        "        return accept, x_new\n",
        "    else:\n",
        "        return accept, x_old"
      ],
      "execution_count": null,
      "outputs": []
    },
    {
      "cell_type": "markdown",
      "metadata": {
        "id": "GOMPZAl4Wfzp"
      },
      "source": [
        "Τέλος, ορίζεται μία συνάρτηση που μετράει πόσες φορές έγιναν αποδεκτά τα προτεινόμενα βήματα."
      ]
    },
    {
      "cell_type": "code",
      "metadata": {
        "id": "InhB04mDWfzp"
      },
      "source": [
        "def build_MH_chain(init, stepsize, n_total, log_prob):\n",
        "\n",
        "    n_accepted = 0\n",
        "    chain = [init]\n",
        "\n",
        "    for _ in range(n_total):\n",
        "        accept, state = sample_MH(chain[-1], log_prob, stepsize)\n",
        "        chain.append(state)\n",
        "        n_accepted += accept\n",
        "    \n",
        "    acceptance_rate = n_accepted / float(n_total)\n",
        "    \n",
        "    return chain, acceptance_rate"
      ],
      "execution_count": null,
      "outputs": []
    },
    {
      "cell_type": "markdown",
      "metadata": {
        "id": "T41QzggA_XCz"
      },
      "source": [
        "<h3><b>Ερωτήματα (Μέρος Α)</b></h3>\n",
        "\n",
        "<ul>\n",
        "<li>Με ποιον τρόπο αποφασίζει ο αλγόριθμος <b><i>Metropolis-Hastings</i></b> εάν θα γίνει δεκτό ένα προτεινόμενο βήμα; Να εξηγήσετε συνοπτικά βάσει των παραπάνω μεθόδων.</li>\n",
        "<li>Με ποιον τρόπο αξιοποιούνται οι <b><i>αλυσίδες Markov</i> (<i>Markov Chains</i>)</b> από τον αλγόριθμο <b><i>Metropolis-Hastings</i></b> για τη λήψη τυχαίων δειγματικών σημείων από μία κατανομή πιθανοτήτων;</li>\n",
        "<li>Ο αλγόριθμος <b><i>Metropolis-Hastings</i></b> χρησιμοποιείται για τη λήψη τυχαίου δείγματος από μία κατανομή πιθανοτήτων για την οποία είναι αδύνατο να λάβουμε τέτοια δειγματικά στοιχεία λόγω αδυναμίας πλήρους καταγραφής του δειγματικού χώρου ή/και υπολογισμού κάποιας <b><i>σταθεράς κανονικοποίησης</i></b> που εμφανίζεται στην κατανομή. Έτσι, λαμβάνεται ως <b><i>κατανομή στόχος</i></b> μία κατανομή που έχει γνωστή μορφή, ανάλογη με την κατανομή από την οποία θέλουμε να λάβουμε τα δειγματικά στοιχεία. Με ποιον τρόπο καταφέρνει ο αλγόριθμος <b><i>Metropolis-Hastings</i></b> να δώσει αποτελέσματα παρά το γεγονός ότι αγνοεί τη <b><i>σταθερά κανονικοποίησης</i></b>;\n",
        "</ul>"
      ]
    },
    {
      "cell_type": "markdown",
      "metadata": {
        "id": "2RknVi31Wfzq"
      },
      "source": [
        "<h3><b>Δοκιμές του Αλγορίθμου <i>Metropolis-Hastings</i></b></h3>"
      ]
    },
    {
      "cell_type": "markdown",
      "metadata": {
        "id": "JN2tzR_s_Qiz"
      },
      "source": [
        "Το παρακάτω τμήμα κώδικα ασχολείται με την κλήση των παραπάνω μεθόδων και την οπτικοποίηση των αποτελεσμάτων."
      ]
    },
    {
      "cell_type": "code",
      "metadata": {
        "id": "UNkB0I4JWfzs"
      },
      "source": [
        "%matplotlib notebook\n",
        "%matplotlib inline\n",
        "import numpy as np\n",
        "import matplotlib.pyplot as plt\n",
        "plt.rcParams['figure.figsize'] = [10, 6]\n",
        "np.random.seed(42)\n",
        "\n",
        "def plot_samples(chain, log_prob, ax, orientation='vertical', normalize=True,\n",
        "                 xlims=(-5, 5), legend=True):\n",
        "    from scipy.integrate import quad\n",
        "    \n",
        "    ax.hist(chain, bins=50, density=True, label=\"MCMC samples\",\n",
        "           orientation=orientation)\n",
        "    # we numerically calculate the normalization constant of our PDF\n",
        "    if normalize:\n",
        "        Z, _ = quad(lambda x: np.exp(log_prob(x)), -np.inf, np.inf)\n",
        "    else:\n",
        "        Z = 1.0\n",
        "    xses = np.linspace(xlims[0], xlims[1], 1000)\n",
        "    yses = [np.exp(log_prob(x)) / Z for x in xses]\n",
        "    if orientation == 'horizontal':\n",
        "        (yses, xses) = (xses, yses)\n",
        "    ax.plot(xses, yses, label=\"true distribution\")\n",
        "    if legend:\n",
        "        ax.legend(frameon=False)\n",
        "\n",
        "def sample_and_display(init_state, stepsize, n_total, n_burnin, log_prob):\n",
        "    chain, acceptance_rate = build_MH_chain(init_state, stepsize, n_total, log_prob)\n",
        "    print(\"Acceptance rate: {:.3f}\".format(acceptance_rate))\n",
        "    fig, ax = plt.subplots()\n",
        "    plot_samples([state for state, in chain[n_burnin:]], log_prob, ax)\n",
        "    ax.set_yticks(())\n",
        "    plt.show()"
      ],
      "execution_count": null,
      "outputs": []
    },
    {
      "cell_type": "markdown",
      "metadata": {
        "id": "LjjLBOtqWfzt"
      },
      "source": [
        "Το αποτέλεσμα που περιμένετε να δείτε από τη συγκεκριμένη άσκηση είναι ότι ο αλγόριθμος <b><i>Metropolis-Hastings</i></b> θα σας επιστρέψει δειγματικά στοιχεία τα οποία θα ακολουθούν <b><i>τυπική κανονική κατανομή</i></b>.\n",
        "\n",
        "Εκτελέστε την παρακάτω μέθοδο για μέγεθος βήματος $Δ = 3.0$ και συνολικό αριθμό βημάτων $10000$. Παρατηρήστε ότι η κατανομή που προκύπτει είναι πολύ κοντά σε μία <b><i>τυπική κανονική</i></b>, ενώ το ποσοστό των βημάτων που έγιναν δεκτά από τον αλγόριθμο <b><i>Metropolis-Hastings</i></b> είναι περίπου $70$%."
      ]
    },
    {
      "cell_type": "code",
      "metadata": {
        "id": "0u1cCGI89sn-",
        "colab": {
          "base_uri": "https://localhost:8080/",
          "height": 391
        },
        "outputId": "2c4e0c80-abec-4614-b1e3-f114d6069f0d"
      },
      "source": [
        "sample_and_display(np.array([2.0]), 3.0, 10000, 500, log_prob)"
      ],
      "execution_count": null,
      "outputs": [
        {
          "output_type": "stream",
          "text": [
            "Acceptance rate: 0.718\n"
          ],
          "name": "stdout"
        },
        {
          "output_type": "display_data",
          "data": {
            "image/png": "[encoded data removed]",
            "text/plain": [
              "<Figure size 720x432 with 1 Axes>"
            ]
          },
          "metadata": {
            "tags": [],
            "needs_background": "light"
          }
        }
      ]
    },
    {
      "cell_type": "markdown",
      "metadata": {
        "id": "DO1MzngkFazw"
      },
      "source": [
        "<h3><b>Ερωτήματα (Μέρος Β)</b></h3>\n",
        "\n",
        "Να επαναλάβετε για $Δ=30$ και συνολικό αριθμό βημάτων $10000$. Τι παρατηρείτε ότι συμβαίνει στην περίπτωση που χρησιμοποιείτε ένα πολύ μεγάλο βήμα, δηλαδή πολύ μεγάλη τιμή για την παράμετρο $Δ$; Να επαναλάβετε για $Δ=300$, $Δ=3000$ και $Δ=30000$, ώστε να επιβεβαιώσετε το συμπέρασμά σας. Σχολιάστε και το ποσοστό των αποδεκτών βημάτων."
      ]
    },
    {
      "cell_type": "code",
      "metadata": {
        "id": "Jf-OoUopWfzu",
        "colab": {
          "base_uri": "https://localhost:8080/",
          "height": 391
        },
        "outputId": "6c9e5d34-9d7a-4a5d-b82e-a5ef71b38ae9"
      },
      "source": [
        "sample_and_display(np.array([2.0]), 30, 10000, 500, log_prob)"
      ],
      "execution_count": null,
      "outputs": [
        {
          "output_type": "stream",
          "text": [
            "Acceptance rate: 0.104\n"
          ],
          "name": "stdout"
        },
        {
          "output_type": "display_data",
          "data": {
            "image/png": "[encoded data removed]",
            "text/plain": [
              "<Figure size 720x432 with 1 Axes>"
            ]
          },
          "metadata": {
            "tags": [],
            "needs_background": "light"
          }
        }
      ]
    },
    {
      "cell_type": "markdown",
      "metadata": {
        "id": "BhJ8KFbZGRvi"
      },
      "source": [
        "Να επαναλάβετε για $Δ=0.1$, δηλαδή μία πολύ μικρή τιμή για το βήμα. Τι παρατηρείτε; Είναι ικανοποιητικά τα αποτελέσματά σας; Σχολιάστε και το ποσοστό των αποδεκτών βημάτων. Να επαναλάβετε για $Δ=0.01$."
      ]
    },
    {
      "cell_type": "code",
      "metadata": {
        "id": "ksTky9sGWfzu",
        "colab": {
          "base_uri": "https://localhost:8080/",
          "height": 391
        },
        "outputId": "aed4bfb9-0a89-45d6-8808-c8b485584483"
      },
      "source": [
        "sample_and_display(np.array([2.0]), 0.1, 10000, 500, log_prob)"
      ],
      "execution_count": null,
      "outputs": [
        {
          "output_type": "stream",
          "text": [
            "Acceptance rate: 0.991\n"
          ],
          "name": "stdout"
        },
        {
          "output_type": "display_data",
          "data": {
            "image/png": "[encoded data removed]",
            "text/plain": [
              "<Figure size 720x432 with 1 Axes>"
            ]
          },
          "metadata": {
            "tags": [],
            "needs_background": "light"
          }
        }
      ]
    },
    {
      "cell_type": "markdown",
      "metadata": {
        "id": "UEIbkF7CGxCt"
      },
      "source": [
        "Να επαναλάβετε αυξάνοντας το συνολικό αριθμό βημάτων που θα πραγματοποιηθούν σε $500000$. Τι παρατηρείτε σχετικά με την ακρίβεια των αποτελεσμάτων σας, αλλά και το χρόνο εκτέλεσης του αλγορίθμου <b><i>Metropolis-Hastings</i></b>;"
      ]
    },
    {
      "cell_type": "code",
      "metadata": {
        "id": "chsa40ShWfzv",
        "colab": {
          "base_uri": "https://localhost:8080/",
          "height": 391
        },
        "outputId": "543f06c8-fa8c-42f0-c83c-c7d2d3c57adc"
      },
      "source": [
        "sample_and_display(np.array([2.0]), 0.1, 500000, 25000, log_prob)"
      ],
      "execution_count": null,
      "outputs": [
        {
          "output_type": "stream",
          "text": [
            "Acceptance rate: 0.990\n"
          ],
          "name": "stdout"
        },
        {
          "output_type": "display_data",
          "data": {
            "image/png": "[encoded data removed]",
            "text/plain": [
              "<Figure size 720x432 with 1 Axes>"
            ]
          },
          "metadata": {
            "tags": [],
            "needs_background": "light"
          }
        }
      ]
    },
    {
      "cell_type": "markdown",
      "metadata": {
        "id": "UXTTEkgfHO0y"
      },
      "source": [
        "Η συνάρτηση <b><i>sample_and_display</i></b> περιλαμβάνει το n_burnin ως τέταρτο όρισμα. Ποια είναι η χρησιμότητα του ορίσματος αυτού; Δοκιμάστε τις παρακάτω τιμές:\n",
        "<ul>\n",
        "<li>$Δ=0.1$, αριθμός βημάτων $1000$ και n_burnin=$10$.</li>\n",
        "<li>$Δ=0.1$, αριθμός βημάτων $500000$ και n_burnin=$490000$.</li>\n",
        "</ul>\n",
        "Τι παρατηρείτε;"
      ]
    }
  ]
}