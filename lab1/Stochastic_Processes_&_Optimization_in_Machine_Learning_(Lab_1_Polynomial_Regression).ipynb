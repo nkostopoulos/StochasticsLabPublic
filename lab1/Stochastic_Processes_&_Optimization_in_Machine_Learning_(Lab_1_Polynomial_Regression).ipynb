{
  "nbformat": 4,
  "nbformat_minor": 0,
  "metadata": {
    "colab": {
      "name": "Stochastic_Processes_&_Optimization_in_Machine_Learning_(Lab_1_Polynomial_Regression).ipynb",
      "provenance": []
    },
    "kernelspec": {
      "name": "python3",
      "display_name": "Python 3"
    }
  },
  "cells": [
    {
      "cell_type": "markdown",
      "metadata": {
        "id": "VJhXXPdrYeSv"
      },
      "source": [
        "<h1><b>Ο αλγόριθμος Πολυωνυμικής Παλινδρόμησης (Polynomial Regression)</b></h1>\n",
        "\n",
        "<p align=\"justify\">Στην άσκηση αυτή θα μελετήσετε τον αλγόριθμο <b><i>πολυωνυμικής παλινδρόμησης</i></b> (<b><i>polynomial regression</i></b>). Για την εκπαίδευση του μοντέλου θα χρησιμοποιήσετε τα δεδομένα του αρχείου <b><i><a href=\"https://github.com/nkostopoulos/StochasticsLabPublic/blob/master/lab1/data2.csv\">data2.csv</a></b></i>. Η εφαρμογή αφορά την εκτίμηση των τιμών της πίεσης (pressure) ενός συστήματος δεδομένης της θερμοκρασίας (temperature).</p>\n",
        "\n",
        "<p align=\"justify\">Στο Notebook αυτό περιλαμβάνονται εντολές για (α) τη φόρτωση των δεδομένων εκπαίδευσης που περιέχονται στο αρχείο <b><i>data2.csv</b></i>, (β) την εκπαίδευση ενός μοντέλου <b><i>linear regression</i></b> και την προσαρμογή του πάνω στα δεδομένα εκπαίδευσης, (γ) την εκπαίδευση ενός μοντέλου <b><i>polynomial regression</i></b> βαθμού <b><i>degree</i></b> και την προσαρμογή του πάνω στα δεδομένα εκπαίδευσης και (δ) την οπτικοποίηση των δεδομένων εκπαίδευσης, καθώς και των γραμμών απόφασης για τα δύο μοντέλα παλινδρόμησης. Για την εκπαίδευση των δύο μοντέλων παλινδρόμησης χρησιμοποιείται η βιβλιοθήκη <b><i>Scikit-Learn</b></i> της <b><i>Python</i></b>. Περισσότερες πληροφορίες για τον αλγόριθμο <b><i>polynomial regression</i></b> και τον κώδικα της άσκησης μπορούν να βρεθούν <a href=\"https://www.geeksforgeeks.org/python-implementation-of-polynomial-regression/\">εδώ</a>.</p>\n",
        "\n",
        "<p align=\"justify\">Στην άσκηση αυτή, καλείστε να παρατηρήσετε τη μορφή και τις αλλαγές της γραμμής παλινδρόμησης για διαφορετικές τιμές της παραμέτρου <b><i>degree</b></i> βάσει των δεδομένων εκπαίδευσης που παρέχονται.</p>\n",
        "\n",
        "<p align=\"justify\">Αρχικά, θα εγκαταστήσετε και θα φορτώσετε τις απαραίτητες βιβλιοθήκες.</p>\n"
      ]
    },
    {
      "cell_type": "code",
      "metadata": {
        "id": "p9t1Id9EY5NL"
      },
      "source": [
        "!pip install numpy\n",
        "!pip install matplotlib\n",
        "!pip install pandas\n",
        "!pip install sklearn\n",
        "\n",
        "import numpy as np\n",
        "import matplotlib.pyplot as plt\n",
        "import pandas as pd\n",
        "from sklearn.preprocessing import PolynomialFeatures\n",
        "from sklearn.linear_model import LinearRegression"
      ],
      "execution_count": null,
      "outputs": []
    },
    {
      "cell_type": "markdown",
      "metadata": {
        "id": "AkKIchsGhtWb"
      },
      "source": [
        "Στη συνέχεια, θα φορτώσετε τα δεδομένα εκπαίδευσης που παρέχονται από το αρχείο\n",
        " <b><i>data2.csv</b></i>."
      ]
    },
    {
      "cell_type": "code",
      "metadata": {
        "id": "qjkpvZWXh0yG"
      },
      "source": [
        "datas = pd.read_csv('data2.csv')\n",
        "print(datas)"
      ],
      "execution_count": null,
      "outputs": []
    },
    {
      "cell_type": "markdown",
      "metadata": {
        "id": "ub17UNfdjJ9S"
      },
      "source": [
        "Τώρα, θα δημιουργήσετε τις μεταβλητές εισόδου και εξόδου για τους αλγορίθμους μηχανικής μάθησης από τα δεδομένα εκπαίδευσης που παρέχονται."
      ]
    },
    {
      "cell_type": "code",
      "metadata": {
        "id": "WlUknU9ijKGm"
      },
      "source": [
        "X = datas.iloc[:, 1:2].values\n",
        "y = datas.iloc[:, 2].values\n",
        "\n",
        "print(\"Input\")\n",
        "\n",
        "print(X)\n",
        "\n",
        "print(\"Labels\")\n",
        "\n",
        "print(y)"
      ],
      "execution_count": null,
      "outputs": []
    },
    {
      "cell_type": "markdown",
      "metadata": {
        "id": "WRx8PA_rkI9k"
      },
      "source": [
        "Στη συνέχεια, θα εκπαιδεύσετε το μοντέλο <b><i>linear regression</i></b>, χρησιμοποιώντας τα παραπάνω δεδομένα εκπαίδευσης."
      ]
    },
    {
      "cell_type": "code",
      "metadata": {
        "id": "j_VwEoqmkQ8q"
      },
      "source": [
        "lin = LinearRegression()\n",
        "lin.fit(X, y)"
      ],
      "execution_count": null,
      "outputs": []
    },
    {
      "cell_type": "markdown",
      "metadata": {
        "id": "nIADbNZLhGLF"
      },
      "source": [
        "<h3><b><i>Ερώτημα 1</b></i></h3>\n",
        "\n",
        "<p align=\"justify\">Να εκτελέσετε τα παρακάτω τμήματα κώδικα για τις τιμές της παραμέτρου <b><i>degree</b></i> {<i>2, 3, 4, 5, 8, 10, 12, 15</i>} και να καταγράψετε τα διαγράμματα που παρέχονται ως έξοδοι. Τι αλλαγές παρατηρείτε στη μορφή της γραμμής παλινδρόμησης για το μοντέλο <b><i>polynomial regression</i></b>, καθώς αυξάνεται η τιμή της παραμέτρου <b><i>degree</i></b>; Τι παρατηρείτε για τον απαιτούμενο χρόνο εκπαίδευσης του μοντέλου <b><i>polynomial regression</i></b>, καθώς αυξάνεται η τιμή της παραμέτρου <b><i>degree</i></b>;</p>\n",
        "\n",
        "<br>\n",
        "\n",
        "**<h4> <b><i>degree</b></i> = 2 </h4>**"
      ]
    },
    {
      "cell_type": "code",
      "metadata": {
        "id": "Ojivt11ugwMp"
      },
      "source": [
        "poly = PolynomialFeatures(degree=2)\n",
        "X_poly = poly.fit_transform(X)\n",
        "poly.fit(X_poly, y)\n",
        "lin2 = LinearRegression()\n",
        "lin2.fit(X_poly, y)\n",
        "\n",
        "plt.scatter(X, y, color = 'blue', label = 'Training Examples')\n",
        "\n",
        "plt.plot(X, lin.predict(X), color = 'red', label = 'Linear Regression Line')\n",
        "plt.plot(X, lin2.predict(poly.fit_transform(X)), color = 'green', label = 'Polynomial Regression Line')\n",
        "plt.legend()\n",
        "plt.show()"
      ],
      "execution_count": null,
      "outputs": []
    },
    {
      "cell_type": "markdown",
      "metadata": {
        "id": "qfdPhp4TkY8U"
      },
      "source": [
        "<h4> <b><i>degree</b></i> = 3 </h4>"
      ]
    },
    {
      "cell_type": "code",
      "metadata": {
        "id": "FkGz2WLOkZHA"
      },
      "source": [
        "poly = PolynomialFeatures(degree=3)\n",
        "X_poly = poly.fit_transform(X)\n",
        "poly.fit(X_poly, y)\n",
        "lin2 = LinearRegression()\n",
        "lin2.fit(X_poly, y)\n",
        "\n",
        "plt.scatter(X, y, color = 'blue', label = 'Training Examples')\n",
        "\n",
        "plt.plot(X, lin.predict(X), color = 'red', label = 'Linear Regression Line')\n",
        "plt.plot(X, lin2.predict(poly.fit_transform(X)), color = 'green', label = 'Polynomial Regression Line')\n",
        "plt.legend()\n",
        "plt.show()"
      ],
      "execution_count": null,
      "outputs": []
    },
    {
      "cell_type": "markdown",
      "metadata": {
        "id": "FIrExFPFkZM9"
      },
      "source": [
        "<h4> <b><i>degree</b></i> = 4 </h4>"
      ]
    },
    {
      "cell_type": "code",
      "metadata": {
        "id": "Zc8buwwgkZRW"
      },
      "source": [
        "poly = PolynomialFeatures(degree=4)\n",
        "X_poly = poly.fit_transform(X)\n",
        "poly.fit(X_poly, y)\n",
        "lin2 = LinearRegression()\n",
        "lin2.fit(X_poly, y)\n",
        "\n",
        "plt.scatter(X, y, color = 'blue', label = 'Training Examples')\n",
        "\n",
        "plt.plot(X, lin.predict(X), color = 'red', label = 'Linear Regression Line')\n",
        "plt.plot(X, lin2.predict(poly.fit_transform(X)), color = 'green', label = 'Polynomial Regression Line')\n",
        "plt.legend()\n",
        "plt.show()"
      ],
      "execution_count": null,
      "outputs": []
    },
    {
      "cell_type": "markdown",
      "metadata": {
        "id": "v1bRPTRkkZVv"
      },
      "source": [
        "<h4> <b><i>degree</b></i> = 5 </h4>"
      ]
    },
    {
      "cell_type": "code",
      "metadata": {
        "id": "0y5s2O6KkZaM"
      },
      "source": [
        "poly = PolynomialFeatures(degree=5)\n",
        "X_poly = poly.fit_transform(X)\n",
        "poly.fit(X_poly, y)\n",
        "lin2 = LinearRegression()\n",
        "lin2.fit(X_poly, y)\n",
        "\n",
        "plt.scatter(X, y, color = 'blue', label = 'Training Examples')\n",
        "\n",
        "plt.plot(X, lin.predict(X), color = 'red', label = 'Linear Regression Line')\n",
        "plt.plot(X, lin2.predict(poly.fit_transform(X)), color = 'green', label = 'Polynomial Regression Line')\n",
        "plt.legend()\n",
        "plt.show()"
      ],
      "execution_count": null,
      "outputs": []
    },
    {
      "cell_type": "markdown",
      "metadata": {
        "id": "eEg4pykvkZjV"
      },
      "source": [
        "<h4> <b><i>degree</b></i> = 8 </h4>"
      ]
    },
    {
      "cell_type": "code",
      "metadata": {
        "id": "pCPhpNCWkZm_"
      },
      "source": [
        "poly = PolynomialFeatures(degree=8)\n",
        "X_poly = poly.fit_transform(X)\n",
        "poly.fit(X_poly, y)\n",
        "lin2 = LinearRegression()\n",
        "lin2.fit(X_poly, y)\n",
        "\n",
        "plt.scatter(X, y, color = 'blue', label = 'Training Examples')\n",
        "\n",
        "plt.plot(X, lin.predict(X), color = 'red', label = 'Linear Regression Line')\n",
        "plt.plot(X, lin2.predict(poly.fit_transform(X)), color = 'green', label = 'Polynomial Regression Line')\n",
        "plt.legend()\n",
        "plt.show()"
      ],
      "execution_count": null,
      "outputs": []
    },
    {
      "cell_type": "markdown",
      "metadata": {
        "id": "E42kIrskknI7"
      },
      "source": [
        "<h4> <b><i>degree</b></i> = 10 </h4>"
      ]
    },
    {
      "cell_type": "code",
      "metadata": {
        "id": "7leg97_Ak1Kn"
      },
      "source": [
        "poly = PolynomialFeatures(degree=10)\n",
        "X_poly = poly.fit_transform(X)\n",
        "poly.fit(X_poly, y)\n",
        "lin2 = LinearRegression()\n",
        "lin2.fit(X_poly, y)\n",
        "\n",
        "plt.scatter(X, y, color = 'blue', label = 'Training Examples')\n",
        "\n",
        "plt.plot(X, lin.predict(X), color = 'red', label = 'Linear Regression Line')\n",
        "plt.plot(X, lin2.predict(poly.fit_transform(X)), color = 'green', label = 'Polynomial Regression Line')\n",
        "plt.legend()\n",
        "plt.show()"
      ],
      "execution_count": null,
      "outputs": []
    },
    {
      "cell_type": "markdown",
      "metadata": {
        "id": "a4ychjFjk1S7"
      },
      "source": [
        "<h4> <b><i>degree</b></i> = 12 </h4>"
      ]
    },
    {
      "cell_type": "code",
      "metadata": {
        "id": "qncnfYXWk2_q"
      },
      "source": [
        "poly = PolynomialFeatures(degree=12)\n",
        "X_poly = poly.fit_transform(X)\n",
        "poly.fit(X_poly, y)\n",
        "lin2 = LinearRegression()\n",
        "lin2.fit(X_poly, y)\n",
        "\n",
        "plt.scatter(X, y, color = 'blue', label = 'Training Examples')\n",
        "\n",
        "plt.plot(X, lin.predict(X), color = 'red', label = 'Linear Regression Line')\n",
        "plt.plot(X, lin2.predict(poly.fit_transform(X)), color = 'green', label = 'Polynomial Regression Line')\n",
        "plt.legend()\n",
        "plt.show()"
      ],
      "execution_count": null,
      "outputs": []
    },
    {
      "cell_type": "markdown",
      "metadata": {
        "id": "_-11VNLek3Hz"
      },
      "source": [
        "<h4> <b><i>degree</b></i> = 15 </h4>"
      ]
    },
    {
      "cell_type": "code",
      "metadata": {
        "id": "KQg1Igu_lBKF"
      },
      "source": [
        "poly = PolynomialFeatures(degree=15)\n",
        "X_poly = poly.fit_transform(X)\n",
        "poly.fit(X_poly, y)\n",
        "lin2 = LinearRegression()\n",
        "lin2.fit(X_poly, y)\n",
        "\n",
        "plt.scatter(X, y, color = 'blue', label = 'Training Examples')\n",
        "\n",
        "plt.plot(X, lin.predict(X), color = 'red', label = 'Linear Regression Line')\n",
        "plt.plot(X, lin2.predict(poly.fit_transform(X)), color = 'green', label = 'Polynomial Regression Line')\n",
        "plt.legend()\n",
        "plt.show()"
      ],
      "execution_count": null,
      "outputs": []
    },
    {
      "cell_type": "markdown",
      "metadata": {
        "id": "3PVGaHDclmeq"
      },
      "source": [
        "<h3><b><i>Ερώτημα 2</b></i></h3>\n",
        "\n",
        "Σας παρέχεται, επίσης, το αρχείο <b><i>data2b.csv</i></b>, το οποίο είναι το αρχείο <b><i>data2.csv</i></b> με μία παραπάνω εγγραφή, την <b><i>(9, 38, 0.3)</i></b>. Να εκτελέσετε το παρακάτω πρόγραμμα για την τιμή της παραμέτρου <b><i>degree = 15</i></b>. Πόσο μεγάλη είναι η αλλαγή που παρατηρείτε στη μορφή της γραμμής παλινδρόμησης σε σχέση με την αντίστοιχη περίπτωση του ερωτήματος 1; Τι συμπέρασμα μπορείτε να βγάλετε για τον αλγόριθμο <b><i>polynomial regression</i></b>;"
      ]
    },
    {
      "cell_type": "code",
      "metadata": {
        "id": "p1lB-BkjmoP3"
      },
      "source": [
        "datas = pd.read_csv('data2b.csv')\n",
        "print(datas)\n",
        "\n",
        "X = datas.iloc[:, 1:2].values\n",
        "y = datas.iloc[:, 2].values\n",
        "\n",
        "lin = LinearRegression()\n",
        "lin.fit(X, y)\n",
        "\n",
        "poly = PolynomialFeatures(degree=15)\n",
        "X_poly = poly.fit_transform(X)\n",
        "poly.fit(X_poly, y)\n",
        "lin2 = LinearRegression()\n",
        "lin2.fit(X_poly, y)\n",
        "\n",
        "plt.scatter(X, y, color = 'blue', label = 'Training Examples')\n",
        "\n",
        "plt.plot(X, lin.predict(X), color = 'red', label = 'Linear Regression Line')\n",
        "plt.plot(X, lin2.predict(poly.fit_transform(X)), color = 'green', label = 'Polynomial Regression Line')\n",
        "plt.legend()\n",
        "plt.show()"
      ],
      "execution_count": null,
      "outputs": []
    }
  ]
}
