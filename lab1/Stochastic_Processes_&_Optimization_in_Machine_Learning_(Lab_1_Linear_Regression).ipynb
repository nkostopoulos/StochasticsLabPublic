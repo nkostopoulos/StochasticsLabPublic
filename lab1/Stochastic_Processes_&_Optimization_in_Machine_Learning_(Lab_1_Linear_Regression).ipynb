{
  "nbformat": 4,
  "nbformat_minor": 0,
  "metadata": {
    "colab": {
      "name": "Stochastic_Processes_&_Optimization_in_Machine_Learning_(Lab_1_Linear_Regression).ipynb",
      "provenance": []
    },
    "kernelspec": {
      "name": "python3",
      "display_name": "Python 3"
    }
  },
  "cells": [
    {
      "cell_type": "markdown",
      "metadata": {
        "id": "SCIo5COiZR65"
      },
      "source": [
        "<h1><b>Ο Αλγόριθμος Γραμμικής Παλινδρόμησης (Linear Regression)</b></h1>\n",
        "\n",
        "<p align=\"justify\">Στην άσκηση αυτή θα μελετήσετε τον αλγόριθμο <i>γραμμικής παλινδρόμησης (linear regression)</i>, αναπτύσσοντας ένα δικό σας πρόγραμμα Python που υλοποιεί όλες τις απαραίτητες ενέργειες, χωρίς να χρησιμοποιήσετε κάποια βιβλιοθήκη της Python που υλοποιεί το μοντέλο <i>linear regression</i>, όπως είναι η <i>Scikit-Learn</i>.</p>\n",
        "\n",
        "<p align=\"justify\">Αρχικά παρέχονται δύο αρχεία με δεδομένα εκπαίδευσης: (α) <i><a href=\"https://github.com/nkostopoulos/StochasticsLabPublic/blob/master/lab1/data1a.csv\">data1a.csv</a></i> και (β) <i><a href=\"https://github.com/nkostopoulos/StochasticsLabPublic/blob/master/lab1/data1b.csv\">data1b.csv</a></i>. Κάθε γραμμή του αρχείου <i>data1a.csv</i> περιλαμβάνει πληροφορίες που αφορούν τη θέαση video στο <i>YouTube</i>, όπως <i>τίτλος</i>, <i>αριθμός views</i>, <i>likes</i>, <i>dislikes</i>, κτλ. Συνολικά, το αρχείο <i>data1a.csv</i> περιλαμβάνει 11 στήλες. Περισσότερες πληροφορίες για το αρχείο <i>data1a.csv</i> μπορούν να αναζητηθούν <a href=\"https://www.kaggle.com/akanshasingh/us-videos-csv\">εδώ</a>. Το αρχείο <i>data1b.csv</i> περιλαμβάνει 2 στήλες με επικεφαλίδες x και y αντίστοιχα. Οι τιμές αυτές δεν έχουν κάποια φυσική σημασία. Περισσότερες πληροφορίες μπορούν να βρεθούν <a href=\"https://www.kaggle.com/testpython/linear-regression-with-single-variable\">εδώ</a>.</p>\n",
        "\n",
        "<p align=\"justify\">Σκοπός της άσκησης είναι να αναπτύξετε ένα μοντέλο απλής (simple) <i>linear regression</i>, το οποίο θα είναι σε θέση να εκτιμά (α) για την περίπτωση του αρχείου <i>data1a.csv</i> τον αριθμό των <i>views</i> (εξαρτημένη μεταβλητή) ενός video βάσει του αριθμού των <i>likes</i> (ανεξάρτητη μεταβλητή) που αυτό έχει πάρει και (β) για την περίπτωση του αρχείου <i>data1b.csv</i> την τιμή της μεταβλητής y βάσει των τιμών της μεταβλητής x. Να αναπτύξετε ένα ενιαίο πρόγραμμα που να κάνει τα παρακάτω:</p>\n",
        "<ul>\n",
        "<li>Θα φορτώνει τα δεδομένα από τα αρχεία .csv και θα απομονώνει τις στήλες που έχουν σημασία, δηλαδή στην περίπτωση του αρχείου data1a.csv τις στήλες με επικεφαλίδες views και likes και στην περίπτωση του αρχείου data1b.csv τις στήλες με επικεφαλίδες y και x.</li>\n",
        "<li>Θα υπολογίζει τη συσχέτιση (correlation) ανάμεσα στην ανεξάρτητη και εξαρτημένη μεταβλητή των δεδομένων που παρέχονται. Το βήμα αυτό είναι απαραίτητο για να εξακριβωθεί ποιος είναι ο βαθμός γραμμικής εξάρτησης ανάμεσα στις δύο μεταβλητές. Ποιο είναι το correlation που προκύπτει στις δύο περιπτώσεις; Είναι ικανοποιητική η γραμμική εξάρτηση των δύο μεταβλητών; Για το ερώτημα αυτό να μελετήσετε την πηγή <a href=\"https://en.wikipedia.org/wiki/Correlation_and_dependence\">εδώ</a>.</li>\n",
        "<li>Θα απεικονίζει τα σημεία που προκύπτουν ως ζεύγη της ανεξάρτητης και εξαρτημένης μεταβλητής που απομονώθηκαν στο πρώτο ερώτημα. Τι παρατηρείτε σε σχέση με τα συμπεράσματα που βγάλατε στο δεύτερο ερώτημα;</li>\n",
        "<li>Θα κανονικοποιεί τα δεδομένα που παρέχονται με τη μέθοδο min-max normalization. Περισσότερες πληροφορίες για τη μέθοδο αυτή μπορούν να βρεθούν <a href=\"https://en.wikipedia.org/wiki/Feature_scaling\">εδώ</a>.</li>\n",
        "<li>Θα υποδιαιρεί τα δεδομένα που παρέχονται με τυχαίο τρόπο σε δύο υποσύνολα: (α) το training set που περιλαμβάνει τα δεδομένα που θα χρησιμοποιηθούν για την εκπαίδευση του μοντέλου και (β) το test set που περιλαμβάνει τα δεδομένα που θα χρησιμοποιηθούν για τον υπολογισμό της ακρίβειας του μοντέλου. Ο χρήστης θα ορίζει το ποσοστό του κάθε αρχείου σε σχέση με το αρχικό.</li>\n",
        "<li>Θα υπολογίζει τις παραμέτρους του μοντέλου linear regression, χρησιμοποιώντας τη μέθοδο Stochastic Gradient Descent (SGD). Για το σκοπό αυτό, ο χρήστης θα πρέπει να ορίζει το ρυθμό μάθησης (learning rate) και το συνολικό αριθμό των εποχών (epochs) εκπαίδευσης. Να θεωρήσετε ότι οι αρχικές τιμές των παραμέτρων είναι μηδενικές.</li>\n",
        "<li>Θα υπολογίζει το μέσο τετραγωνικό σφάλμα (mean squared error) των προβλέψεων πάνω στο test set. Περισσότερες πληροφορίες μπορούν να βρεθούν <a href=\"https://en.wikipedia.org/wiki/Mean_squared_error\">εδώ</a>.</li>\n",
        "</ul>\n",
        "\n",
        "<p align=\"justify\">Να θεωρήσετε ότι το test set είναι το 20% του αρχικού dataset. Τι παρατηρείτε ότι συμβαίνει στην περίπτωση που δε γίνει κανονικοποίηση των δεδομένων; Πειραματιστείτε με τις τιμές του ρυθμού μάθησης και τον αριθμό των εποχών για να δείτε πώς αλλάζει το μέσο τετραγωνικό σφάλμα.<p>"
      ]
    },
    {
      "cell_type": "code",
      "metadata": {
        "id": "-Mh1rOPC1eV1"
      },
      "source": [
        "!pip install numpy\n",
        "!pip install matplotlib\n",
        "!pip install pandas\n",
        "\n",
        "import numpy as np\n",
        "import matplotlib.pyplot as plt\n",
        "import pandas as pd"
      ],
      "execution_count": null,
      "outputs": []
    },
    {
      "cell_type": "code",
      "metadata": {
        "id": "Gi6eokNdf30g"
      },
      "source": [
        "datas = pd.read_csv('data1a.csv')\n",
        "print(datas)"
      ],
      "execution_count": null,
      "outputs": []
    },
    {
      "cell_type": "code",
      "metadata": {
        "id": "ii1-WiYOf8Uo"
      },
      "source": [
        "datas = pd.read_csv('data1b.csv')\n",
        "print(datas)"
      ],
      "execution_count": null,
      "outputs": []
    }
  ]
}
